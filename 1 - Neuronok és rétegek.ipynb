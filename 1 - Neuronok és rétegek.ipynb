{
 "cells": [
  {
   "cell_type": "code",
   "execution_count": 1,
   "id": "d61795ff-6af9-48c9-a2fb-59233f537b78",
   "metadata": {},
   "outputs": [],
   "source": [
    "import numpy as np"
   ]
  },
  {
   "cell_type": "markdown",
   "id": "4d05f497-3e9c-4f9e-be03-571475f718ca",
   "metadata": {
    "jp-MarkdownHeadingCollapsed": true
   },
   "source": [
    "# Bevezetés\n",
    "\n",
    "### Mi a neurális háló?\n",
    "\n",
    "A neurális hálózat csak egy csomó matematikai egyenlet.\n",
    "\n",
    "Egy neurális hálózatnak akár több millió állítható paramétere van (súlyok és torzítások), ezért **a neurális hálózatok paraméterekkel rendelkező hatalmas függvényekként viselkednek**. Több millió változóval rendelkező függvény, amit egy probléma megoldására használunk.\n",
    "\n",
    "**Ennyi neuronokhoz kapcsolódó, összekapcsolt rétegekként elrendezett változóval elképzelhető, hogy léteznek olyan kombinációi e változók értékeinek, amelyek a kívánt kimeneteket eredményezik. *A paraméterek (súly és torzítás) értékek kombinációjának megtalálása jelenti a kihívást*** (ez a betanítás).\n",
    "\n",
    "A neurális hálózatok végső célja, hogy súlyaikat és torzításaikat (a paramétereket) úgy állítsák be, hogy egy még nem látott bemeneti példára alkalmazva a kívánt kimenetet produkálják. \n",
    "\n",
    "Amikor felügyelt gépi tanulási algoritmusokat képezünk, az algoritmusnak bemeneti példákat és a hozzájuk tartozó kívánt kimeneteket mutatunk. \n",
    "\n",
    "Az elképzelés az, hogy egy neurális hálózatot sok adatpéldán betanítunk a súlyok és torzítások lassú beállításával, hogy idővel megtaláljuk azt a paramétermilliók kombinációit, ami már elég pontos eredményt ad.\n",
    "\n",
    "A neurális hálózatok betanításához kiszámítjuk, hogy mennyire téved a modell a hiba (veszteség vagy loss) kiszámítására szolgáló algoritmusok segítségével, és megpróbáljuk frissíteni paramétereiket, hogy sok iteráció során a hálózat fokozatosan egyre kevésbé tévedjen. \n",
    "\n",
    "\n",
    "### Bemeneti és kimenetei réteg\n",
    "\n",
    "A **bemeneti réteg** képviseli a tényleges bemeneti adatokat, például egy kép pixelértékeit vagy egy hőmérséklet-érzékelő adatait. Az adatok jellemzően előfeldolgozottak. (Általában az adatokat úgy dolgozzuk fel előzetesen, hogy közben megőrizzük a jellemzőiket, és az értékek hasonló, 0 és 1 vagy -1 és 1 közötti tartományokban legyenek. Ennek eléréséhez skálázási és normalizálási függvényeket használunk.)\n",
    "\n",
    "A **kimeneti réteg** az, amit a neurális hálózat visszaad. Osztályozás esetén, ahol a bemenet osztályának előrejelzése a cél, a kimeneti réteg annyi neuront tartalmaz, ahány osztálya van a képzési adathalmaznak, de bináris (két osztály) osztályozás esetén egyetlen kimeneti neuron is lehet. Például a kimeneti réteg két neuronból fog állni: az egyik neuron a \"kutyához\", a másik pedig a \"macskához\" kapcsolódik, de lehetne egyetlen kimeneti neuron is, ami a \"kutya\" vagy a \"nem kutya\". A legmagasabb pontszámot kapott kimeneti neuron lesz a bemenetként használt kép osztályjóslata.\n",
    "\n",
    "### Általánosítás\n",
    "\n",
    "Az egyik fő probléma a túlillesztés, amikor az algoritmus csak a képzési adatokhoz való illeszkedést tanulja meg, ekkor a hálózat lényegében csak \"megjegyzi\" a képzési adatokat. Ezért \"mintán belüli\" adatokat használunk a modell képzéséhez, majd \"mintán kívüli\" adatokat használunk a neurális hálózati modell validálásához. \n",
    "\n",
    "**Ezt hívják általánosításnak: az adatok memorizálása helyett az adatokhoz való illeszkedést tanulja meg.** Minden neurális hálózat fő célja az általánosítás, vagyis, hogy korábban soha nem látott adatpéldán pontosan kiadja a kívánt értékeket. \n",
    "\n",
    "\n",
    "### Milyen adatokon?\n",
    "\n",
    "A lineáris adatok nagyon könnyen közelíthetők a neurális hálózatoknál sokkal egyszerűbb gépi tanulási modellekkel. Amit más gépi tanulási algoritmusok nem tudnak közelíteni, azok a nem lineáris adathalmazok. A neurális hálózatok olyan függvényeket készítenek ami matematikailag leírhatatlan sok paraméterrel (görbülettel) rendelkező függvények."
   ]
  },
  {
   "cell_type": "markdown",
   "id": "a4a8bd5d-8e5d-4482-a707-c4ee8f085988",
   "metadata": {},
   "source": [
    "# Neuron felépítése\n",
    "\n",
    "Minden neuronnak van: \n",
    "\n",
    "- bemenet\n",
    "- minden bemenethez van egy súly\n",
    "- bias (torzítás)\n",
    "\n",
    "A bemenetek azok az adatok, amiket átadunk a neuronnak, a súlyok pedig azok az adott bemenethez tartozó paraméterek, amiket később a kívánt eredmények elérése érdekében hangolunk. A bias egy további hangolható érték, de a súlyokkal ellentétben nem kapcsolódik semmilyen bemenethez (maga a neuron tulajdonsága).\n",
    "\n",
    "A súlyok és a torzítások értékei azok, amiket \"betanítunk\" (beállítunk a tanulás alatt)."
   ]
  },
  {
   "cell_type": "code",
   "execution_count": 2,
   "id": "12b31b84-a61f-4e20-9b29-7e85ff3a143d",
   "metadata": {},
   "outputs": [],
   "source": [
    "inputs = [1.4, 4.2, 3.8]\n",
    "weights = [0.2, 0.8, -0.5]\n",
    "bias = 3"
   ]
  },
  {
   "cell_type": "markdown",
   "id": "81395806-c8db-439a-a6f9-5f27a2d4b284",
   "metadata": {},
   "source": [
    "Minden bemenetet megszorzunk a súlyával, összeadjuk az így kapott bemenetek szorzatát majd hozzáadjuk a biast: **így kapjuk meg a neuron kimenetét.**\n",
    "\n",
    "A kimenet hozzákapcsolódik minden következő réteghez, így **egy pont kimenete minden következő réteg egyik bemenete.**\n",
    "\n",
    "<img src=\"kepek/neuron.jpeg\" width=\"400\"/>\n",
    "<img src=\"kepek/osszeg.jpeg\" width=\"400\"/>"
   ]
  },
  {
   "cell_type": "code",
   "execution_count": 3,
   "id": "6073bfd0-b49b-46b3-932d-704760b763bb",
   "metadata": {},
   "outputs": [],
   "source": [
    "output = (inputs[0] * weights[0]) + (inputs[1] * weights[1]) + (inputs[2] * weights[2]) + bias"
   ]
  },
  {
   "cell_type": "code",
   "execution_count": 4,
   "id": "8fd53f63-2de3-4079-9cc7-d3e6910ba8be",
   "metadata": {},
   "outputs": [
    {
     "data": {
      "text/plain": [
       "4.74"
      ]
     },
     "execution_count": 4,
     "metadata": {},
     "output_type": "execute_result"
    }
   ],
   "source": [
    "output"
   ]
  },
  {
   "cell_type": "markdown",
   "id": "bcf42167-a6b2-4423-9e16-c3369892c40e",
   "metadata": {},
   "source": [
    "Numpy megvalósítás:"
   ]
  },
  {
   "cell_type": "code",
   "execution_count": 5,
   "id": "893b0612-6213-4104-8a71-9c62b11f215d",
   "metadata": {},
   "outputs": [],
   "source": [
    "inputs = np.array([1.4, 4.2, 3.8])\n",
    "weights = np.array([0.2, 0.8, -0.5])\n",
    "bias = 3"
   ]
  },
  {
   "cell_type": "code",
   "execution_count": 6,
   "id": "efc3755c-4143-4fea-8244-00a987191da4",
   "metadata": {},
   "outputs": [],
   "source": [
    "output = (inputs * weights).sum() + bias"
   ]
  },
  {
   "cell_type": "code",
   "execution_count": 7,
   "id": "148adbe3-5d78-434e-b2e8-2e6d1aa16485",
   "metadata": {},
   "outputs": [
    {
     "data": {
      "text/plain": [
       "4.74"
      ]
     },
     "execution_count": 7,
     "metadata": {},
     "output_type": "execute_result"
    }
   ],
   "source": [
    "output"
   ]
  },
  {
   "cell_type": "markdown",
   "id": "4f4c9f07-8804-4c6b-bd80-d855e8567a9d",
   "metadata": {},
   "source": [
    "A NumPy `dot` függvény direkt erre van: össze szorozza az elemeket majd összeadja őket\n",
    "\n",
    "<img src=\"kepek/dot.jpeg\" width=\"400\"/>"
   ]
  },
  {
   "cell_type": "code",
   "execution_count": 8,
   "id": "9f61105a-f8c8-4f6c-9d46-4ce67dbdfb22",
   "metadata": {},
   "outputs": [
    {
     "data": {
      "text/plain": [
       "4.74"
      ]
     },
     "execution_count": 8,
     "metadata": {},
     "output_type": "execute_result"
    }
   ],
   "source": [
    "np.dot(inputs, weights) + bias"
   ]
  },
  {
   "cell_type": "markdown",
   "id": "7a1e02e8-b1ce-4c9c-b5e6-ac6bb669d2db",
   "metadata": {},
   "source": [
    "<br>\n",
    "\n",
    "# Rétegek\n",
    "\n",
    "A rétegek neuronok csoportjai. Egy réteg minden neuronja pontosan ugyanazt a bemenetet - a rétegnek adott bemenetet (amely lehet akár a képzési adat, akár az előző réteg kimenete) - veszi fel, de saját súlykészletet és saját biast tartalmaz, és így saját egyedi kimenetet állít elő. \n",
    "\n",
    "Teljesen összekapcsolt neurális hálózat: az aktuális réteg minden neuronja kapcsolatban áll az előző réteg minden neuronjával. (Ez a leggyakoribb neurális hálózattípus.)\n",
    "\n",
    "\n",
    "Három neuron négy inputtal: két layerből álló neurális háló.\n",
    "\n",
    "(Az output layerek a valóságban mások, mert van egy saját függvényük, de most e nélkül képzeljük el hogy ez a négy az output.)"
   ]
  },
  {
   "cell_type": "code",
   "execution_count": 9,
   "id": "fb4dafce-f631-4796-bffd-0f0b0ddeae0c",
   "metadata": {},
   "outputs": [],
   "source": [
    "# A négy input pont bemeneti értékei (a bemeneti érték egy adatsor elemei, nem a hálózat hanem az adat tudlajonsága)\n",
    "inputs = np.array([1, 2, 3, 2.5])\n",
    "\n",
    "# Mind a három neuronnak mind a négy bemenetének saját súlya van (ez már a hálózat, azon belül az adott neuron tulajdonsága):\n",
    "weights1 = np.array([0.2, 0.8, -0.5, 1.0])\n",
    "weights2 = np.array([0.5, -0.91, 0.26, -0.5])\n",
    "weights3 = np.array([-0.26, -0.27, 0.17, 0.87])\n",
    "\n",
    "# mind a négy pontnak saját biasa van (ez is a hálózat, vagyis a neuron tulajdonsága):\n",
    "b1, b2, b3 = 2, 3, 0.5"
   ]
  },
  {
   "cell_type": "markdown",
   "id": "0800b00c-bdbb-4d19-8a2c-12008ac3941e",
   "metadata": {},
   "source": [
    "<img src=\"kepek/layers.jpeg\" width=\"400\"/>"
   ]
  },
  {
   "cell_type": "code",
   "execution_count": 10,
   "id": "458f8a7b-3757-4816-928e-709b8e993f08",
   "metadata": {},
   "outputs": [],
   "source": [
    "# kiszámolom mind a három output értékét:\n",
    "outputs = [np.dot(inputs, weights1) + b1,\n",
    "           np.dot(inputs, weights2) + b2,\n",
    "           np.dot(inputs, weights3) + b3\n",
    "          ]"
   ]
  },
  {
   "cell_type": "code",
   "execution_count": 11,
   "id": "30d9705b-7e09-4373-9eb2-335f72bb79ca",
   "metadata": {},
   "outputs": [
    {
     "data": {
      "text/plain": [
       "[4.8, 1.21, 2.385]"
      ]
     },
     "execution_count": 11,
     "metadata": {},
     "output_type": "execute_result"
    }
   ],
   "source": [
    "outputs"
   ]
  },
  {
   "cell_type": "markdown",
   "id": "990358f9-e8c2-4204-b15e-3ab611c5cc9e",
   "metadata": {},
   "source": [
    "Hogyan tanul ez a rendszer?\n",
    "\n",
    "A minden réteg bemenete adott, a súlyok és bias változgatásával tanítjuk be a rendszert."
   ]
  },
  {
   "cell_type": "markdown",
   "id": "45792834-a48b-49d9-b791-498eab2aeb79",
   "metadata": {},
   "source": [
    "---\n",
    "\n",
    "### NumPy optimalizálás\n",
    "\n",
    "1. A súlyokat és a biasokat nem külön változókban tároljuk hanem egy többdimenzós listában:"
   ]
  },
  {
   "cell_type": "code",
   "execution_count": 12,
   "id": "b39ea44d-b3ad-4457-9931-10edbb5bfcb1",
   "metadata": {},
   "outputs": [],
   "source": [
    "inputs = np.array([1, 2, 3, 2.5])\n",
    "\n",
    "weights = np.array([[0.2, 0.8, -0.5, 1.0], \n",
    "                    [0.5, -0.91, 0.26, -0.5], \n",
    "                    [-0.26, -0.27, 0.17, 0.87]])\n",
    "\n",
    "biases = np.array([2, 3, 0.5])"
   ]
  },
  {
   "cell_type": "markdown",
   "id": "310b5a45-ee0f-4b70-b06f-64df0d5ac71e",
   "metadata": {},
   "source": [
    "2. for loop-al számoljuk ki a dolgokat:"
   ]
  },
  {
   "cell_type": "code",
   "execution_count": 13,
   "id": "2c478980-e061-4b92-9c56-3e92077e9b1a",
   "metadata": {},
   "outputs": [],
   "source": [
    "# Python megoldás\n",
    "outputs = []\n",
    "for node_weights, node_bias in zip(weights, biases):\n",
    "    # az inputs konstanas: minden pontnak ugyan az\n",
    "    # összeszorzom a pontot és a súlyát\n",
    "    input_x_suly = [weight*input for weight, input in zip(node_weights, inputs)]\n",
    "    # összeadom az összegeket és hozzáadom a biast\n",
    "    output = sum(input_x_suly) + node_bias\n",
    "    outputs.append(output)"
   ]
  },
  {
   "cell_type": "code",
   "execution_count": 14,
   "id": "e5493603-4024-41f6-b851-63ad7ec51b29",
   "metadata": {},
   "outputs": [
    {
     "data": {
      "text/plain": [
       "[4.8, 1.21, 2.385]"
      ]
     },
     "execution_count": 14,
     "metadata": {},
     "output_type": "execute_result"
    }
   ],
   "source": [
    "outputs"
   ]
  },
  {
   "cell_type": "markdown",
   "id": "f9577153-96c5-4bc0-8980-cc6e603a6df3",
   "metadata": {},
   "source": [
    "3. For loop helyett vektor műveletek\n",
    "\n",
    "- 1D array = Vector - shape(4, )\n",
    "- 2D array = Matrix (list of vectors) - shape(2, 4) két sor, négy oszlop\n",
    "- 3D array (list of list of vectors) - shape(3, 2, 4) két dimenzió, minden dimenzióban két sor és négy oszlop\n",
    "\n",
    "Az `np.dot()` metódus a mátrixot vektorok listájaként kezeli, és mindegyik vektornak a másik vektorral való ponttételét végzi el.\n",
    "\n",
    "A súlyok minden sorát meg akarom szorozni a bemenet listával:"
   ]
  },
  {
   "cell_type": "code",
   "execution_count": 15,
   "id": "7bb3ed70-8820-429d-8c2c-268b09558478",
   "metadata": {},
   "outputs": [],
   "source": [
    "inputs = np.array([1, 2, 3, 2.5])\n",
    "\n",
    "weights = np.array([[0.2, 0.8, -0.5, 1.0], \n",
    "                    [0.5, -0.91, 0.26, -0.5], \n",
    "                    [-0.26, -0.27, 0.17, 0.87]])\n",
    "\n",
    "biases = np.array([2, 3, 0.5])"
   ]
  },
  {
   "cell_type": "markdown",
   "id": "66f387ee-ed6e-4fdb-adbe-a46ca71774d4",
   "metadata": {},
   "source": [
    "A `dot` műveletet elvégezhetjük egy mátrixon: egy mátrix minden során (minden vektorán) elvégez a `dot` műveletet a másik vektorral.\n",
    "\n",
    "<img src=\"kepek/dotmatrix.jpeg\" width=\"400\"/>\n",
    "\n",
    "Bemenetnek mindig  mátrixot kell elsőnek és a vektrt másodiknak megadni. (A NumPy-ban mindig az első bemenet haározza meg a műveleti sorrendet: annyi elemet kapun vissza ahány soros a (bemenet) mátrix.)"
   ]
  },
  {
   "cell_type": "code",
   "execution_count": 16,
   "id": "f83bdea4-4cf0-4da2-ab77-72c647295ae0",
   "metadata": {},
   "outputs": [
    {
     "data": {
      "text/plain": [
       "array([4.8  , 1.21 , 2.385])"
      ]
     },
     "execution_count": 16,
     "metadata": {},
     "output_type": "execute_result"
    }
   ],
   "source": [
    "np.dot(weights, inputs) + biases"
   ]
  },
  {
   "cell_type": "markdown",
   "id": "61c4a97c-35b8-4df1-b7d5-bd342bf6b273",
   "metadata": {},
   "source": [
    "<br>\n",
    "\n",
    "## Batch of Data\n",
    "\n",
    "A neurális hálózatok a tanításhoz kötegekben (csoportokban) kapják az adatokat. Ezek az értékek (vektorok) mindegyike egy-egy (megfigyelési) adat, és együttesen egy jellemzőkészlet-példányt alkotnak, amit mintának nevezünk. **Vagyis a batch egy mátrix, bemeneti adatsorok (vektorok) kötege.**\n",
    "\n",
    "A batch size általában 32 vagy 64. Ennyi mintát számol ki egyszerre és az **ezekre kapott eredménnyel módosítja a függvényt**.\n",
    "\n",
    "A lényeg az, hogy egyszerre nem egy mintát számolunk ki hanem több mintát. (És majd a tanuló algoritmusba ezzel a négy mintára kiszámolt eredménnyel módosítjuk a függvényt (a neuron éleinek súlyát és biasát)).\n",
    "\n",
    "Két dolog miatt használjuk ezeket: \n",
    "1. **A párhuzamos feldolgozás során gyorsabb a kötegekben történő képzés.**\n",
    "   \n",
    "A gépitanulás rengeteg apró számolásból áll: akkor hatékony ha pararell tud futni. GPU több ezer csak azonos utasítást elvégezni képes magjai tökéletesek batch-ek számítására, ezzel a tanítási idő drámaian lecsökken.\n",
    "\n",
    "\n",
    "3. **A kötegek segítenek az általánosításban a képzés során.**\n",
    "\n",
    "Ha egyszerre csak egy mintára illeszt (a képzési folyamat egy lépését hajtja végre), akkor nagy valószínűséggel továbbra is az adott egyedi mintára fog illeszkedni, ahelyett, hogy lassan általános, az egész adathalmazra illeszkedő súlyok és torzítások általános módosításait végezné el. A kötegekben történő illesztés nagyobb esélyt ad arra, hogy a súlyok és torzítások értelmesebb módosításait végezze el."
   ]
  },
  {
   "cell_type": "markdown",
   "id": "819d8462-ad8e-46de-ac42-e2fdb0d8a9b2",
   "metadata": {},
   "source": [
    "### Inputok\n",
    "\n",
    "Az inputok összetartozó elemek, például:\n",
    "- Több szenzor egy időpillanatban rögzített adatai\n",
    "- Egy kép képkockáinak az értékei\n",
    "- Egy ember több tulajdonsága"
   ]
  },
  {
   "cell_type": "code",
   "execution_count": 17,
   "id": "ccd425ba-1738-4362-aaf0-6f441c2a572f",
   "metadata": {},
   "outputs": [],
   "source": [
    "ember1 = [10, 2, 0.87] # pl.: pontszám 8, kedvenc tantárgya: 2, intelligencia (normalizálva): 0.87\n",
    "ember2 = [8, 3, -0.58]\n",
    "ember3 = [9, 1, 0.23]"
   ]
  },
  {
   "cell_type": "code",
   "execution_count": 18,
   "id": "4be054a9-9c4f-4a7c-894e-e2f10812ee9a",
   "metadata": {},
   "outputs": [],
   "source": [
    "batch = [[10, 2, 0.87], \n",
    "         [8, 3, -0.58], \n",
    "         [9, 1, 0.23]]"
   ]
  },
  {
   "cell_type": "markdown",
   "id": "11fe4d29-2091-4cf3-a731-21a43fc83aad",
   "metadata": {},
   "source": [
    "Ebben a mátrixban minden egyes vektor egy mintát jelent, ami egy jellemzőkészletet képvisel (ezeket a listákat jellemzőhalmaz-példányoknak vagy megfigyeléseknek is nevezzük).\n",
    "\n",
    "Jelen példában három input sorunk van: batch = 3\n",
    "\n",
    "---\n",
    "\n",
    "<img src=\"kepek/layers.jpeg\" width=\"400\"/>\n",
    "\n",
    "A négy bemenet és a három neuronos hálózat megmarad, de most több inputunk van -> **minden inputtal ki kell számolnunk a kimenetet**."
   ]
  },
  {
   "cell_type": "code",
   "execution_count": 19,
   "id": "e53e9ffb-ec48-49e2-a95c-b46a212600cc",
   "metadata": {},
   "outputs": [],
   "source": [
    "# batch of inputs:\n",
    "inputs = np.array([[1, 2, 3, 2.5],           # input data 1 (ez látható az ábrán)\n",
    "                   [2.0, 5.0, -1.0, 2],      # input data 2\n",
    "                   [-1.5, 2.7, 3.3, -0.8]])  # input data 3\n",
    "\n",
    "weights = np.array([[0.2, 0.8, -0.5, 1.0],       # 1. neruon súlyai\n",
    "                    [0.5, -0.91, 0.26, -0.5],    # 2. neuron súlyai \n",
    "                    [-0.26, -0.27, 0.17, 0.87]]) # 3. neuron súlyai\n",
    "\n",
    "biases = np.array([2, 3, 0.5])   # a réteg minden neuronjának torzításai egy listában"
   ]
  },
  {
   "cell_type": "code",
   "execution_count": 20,
   "id": "39d437a4-5be7-4996-8588-43b43ffe42ea",
   "metadata": {},
   "outputs": [
    {
     "name": "stdout",
     "output_type": "stream",
     "text": [
      "[4.8   1.21  2.385]\n",
      "[ 8.9  -1.81  0.2 ]\n",
      "[1.41  1.051 0.026]\n"
     ]
    }
   ],
   "source": [
    "for input_sor in inputs:\n",
    "    outputs = np.dot(weights, input_sor) + biases\n",
    "    print(outputs)"
   ]
  },
  {
   "cell_type": "markdown",
   "id": "07c84b84-fe13-4087-aa62-017cfa56f76a",
   "metadata": {},
   "source": [
    "Ezt megoldhatujuk for loop-al is, de az nem hatékony.\n",
    "\n",
    "### Matrix Product\n",
    "\n",
    "Nem azt csináljuk, hogy minden input sorral egyesével számoljuk ki az eredményeket hanem az inputokat együtt külldjük át a hálón. **Egy számolással több outputot tudunk kiszámolni a vektorműveletek segítségével.**\n",
    "\n",
    "Így már két mátrixunk van: súlyok, inputok\n",
    "\n",
    "A mátrixszorzat egy olyan művelet, amiben van 2 mátrixunk, és **az első mátrix sorainak és a második mátrix oszlopainak minden kombinációjából dot függvényt végzünk**, és egy új, harmadik mátrixot kapunk."
   ]
  },
  {
   "cell_type": "markdown",
   "id": "02d4dc8d-b7cd-4511-a7e8-4553c6b2ad47",
   "metadata": {},
   "source": [
    "A dot függvény, ha két mátrixon futattjuk:\n",
    "\n",
    "<img src=\"kepek/dotmatrixok.jpeg\" width=\"500\"/>\n",
    "\n",
    "(Tehát az első mátrix sorának annyi eleműnek kell lennie mint a második mátrix oszlopának. Tehát csak arra kell oda figyelnünk, hogy annyi súlya legyen egy neuronnak ahány elemből áll egy input, de ez logikailag nem is lehet máshogy.)\n",
    "\n",
    "\n",
    "Nekünk pont erre van szükségünk: **minden inputtal ki akarjuk számolni az összes neuron kimenetét.**\n",
    "\n",
    "<img src=\"kepek/inputsneurons.jpeg\" width=\"700\"/>"
   ]
  },
  {
   "cell_type": "markdown",
   "id": "3d6920d3-3bb4-4e53-8be2-072e26843a94",
   "metadata": {},
   "source": [
    "Hogy ezt a dot függvényel meg tudjuk valósítani a neuronokat (a neuronok súlyait) amik sorokban vannak oszlopokká kell alakítani. Erre való a transzponálás:\n",
    "\n",
    "<img src=\"kepek/transpose.jpeg\" width=\"500\"/>\n",
    "\n",
    "(Egy sor vektor transzponálással oszlop vektorrá alakul, és fordítva. **A transzpozíció úgy módosítja a mátrixot, hogy a sorai oszlopokká, az oszlopok pedig sorokká válnak.**)"
   ]
  },
  {
   "cell_type": "markdown",
   "id": "3f1555ec-79d2-4fe4-beb4-23c41909fca9",
   "metadata": {},
   "source": [
    "Összes input kiszámolása az összes neuronon:"
   ]
  },
  {
   "cell_type": "code",
   "execution_count": 21,
   "id": "f839968b-e8c4-44fd-9983-67ea637e517e",
   "metadata": {},
   "outputs": [
    {
     "data": {
      "text/plain": [
       "array([[ 4.8  ,  1.21 ,  2.385],\n",
       "       [ 8.9  , -1.81 ,  0.2  ],\n",
       "       [ 1.41 ,  1.051,  0.026]])"
      ]
     },
     "execution_count": 21,
     "metadata": {},
     "output_type": "execute_result"
    }
   ],
   "source": [
    "np.dot(inputs, weights.T) + biases"
   ]
  },
  {
   "cell_type": "markdown",
   "id": "a4d3695d-3305-41cf-b81c-e080480349dd",
   "metadata": {},
   "source": [
    "Mindegyik input vektort megszorozzuk minden neuron összes súlyával: az így kapott mátrix az összes neuron kimeneteit tartalmazza. Már csak a bias kell hozzáadni (minden sorhoz ugyan azt a biases vektort, mivel a sorok a három neuron kimenete)\n",
    "\n",
    "$\\left[\\begin{array}{ccc}2.8 & -1.79 & 1.885 \\\\ 6.9 & -4.81 & -0.3 \\\\ -0.39 & -1.949 & -0.474\\end{array}\\right]+\\left[\\begin{array}{lll}2.0 & 3.0 & 0.5\\end{array}\\right]=\\left[\\begin{array}{ccc}4.8 & 1.21 & 2.385 \\\\ 8.9 & -1.51 & 0.2 \\\\ 1.41 & 1.061 & 0.006\\end{array}\\right]$\n",
    "\n",
    "\n",
    "**Három neuronom van (vagyis három oszlopos a kimenet) és a batch is három (vagyis három soros a kimenet).**\n"
   ]
  },
  {
   "cell_type": "markdown",
   "id": "e0e78156-fd9e-4363-8cf2-b5dd2733665c",
   "metadata": {},
   "source": [
    "<br>\n",
    "\n",
    "# Még egy layer hozzáadása\n",
    "\n",
    "A rejtett réteg nem bemeneti vagy kimeneti réteg. A neurális hálózatok akkor lesznek \"mélyek\", ha 2 vagy több rejtett réteggel rendelkeznek.\n",
    "\n",
    "Mi azokat az értékeket látjuk amiket a bemeneti rétegnek átadunk és az eredményül kapott adatokat a kimeneti rétegből. Az e végpontok közötti rétegek olyan értékekkel rendelkeznek, amikkel mint felhasználó nem foglalkozunk. De ezek az értékek nagyon fontosak a hálózat tanításához, ugyan is ezek módosításával változik meg a kimeneti réteg eredménye.\n",
    "\n",
    "Az előző réteg kimenetei mindig a következő réteg bemenetei lesznek. \n",
    "\n",
    "A következő rétegnél annyi súlykészletünk lehet, ahányat akarunk (mert bárhány neuronja lehet az új rétegnek), de mindegyik súlykészletnek annyi különálló súlynak kell lennie ahány elemű az előző réteg."
   ]
  },
  {
   "cell_type": "code",
   "execution_count": 22,
   "id": "a97080a8-a2d5-4a03-b836-762cda89965e",
   "metadata": {},
   "outputs": [],
   "source": [
    "inputs = np.array([[1, 2, 3, 2.5],\n",
    "                   [2.0, 5.0, -1.0, 2], \n",
    "                   [-1.5, 2.7, 3.3, -0.8]])\n",
    "\n",
    "# Layer 1\n",
    "weights1 = np.array([[0.2, 0.8, -0.5, 1.0], \n",
    "                    [0.5, -0.91, 0.26, -0.5], \n",
    "                    [-0.26, -0.27, 0.17, 0.87]])\n",
    "\n",
    "biases1 = np.array([2, 3, 0.5])\n",
    "\n",
    "\n",
    "# Layer 2\n",
    "weights2 = np.array([[0.1, -0.14, 0.5], \n",
    "                    [-0.5, 0.12, -0.33], \n",
    "                    [-0.44, 0.73, -0.13]])\n",
    "\n",
    "biases2 = np.array([-1, 2, -0.5])"
   ]
  },
  {
   "cell_type": "code",
   "execution_count": 23,
   "id": "34ab2970-f57b-495c-80bb-238b3f906f73",
   "metadata": {},
   "outputs": [],
   "source": [
    "# az első réteg neuronjaink kimenetei\n",
    "layer_1_outputs = np.dot(inputs, weights1.T) + biases1"
   ]
  },
  {
   "cell_type": "code",
   "execution_count": 24,
   "id": "6f090461-ef3a-4f7e-a5f1-67f7b5bfce3b",
   "metadata": {},
   "outputs": [],
   "source": [
    "# a második réteg neuronjaink kimenetei\n",
    "layer_2_outputs = np.dot(layer_1_outputs, weights2.T) + biases2 # a bemenet az előző réteg kimenetet"
   ]
  },
  {
   "cell_type": "code",
   "execution_count": 25,
   "id": "b9d5f770-d639-45b1-ab25-08acc87dc103",
   "metadata": {},
   "outputs": [
    {
     "data": {
      "text/plain": [
       "array([[ 0.5031 , -1.04185, -2.03875],\n",
       "       [ 0.2434 , -2.7332 , -5.7633 ],\n",
       "       [-0.99314,  1.41254, -0.35655]])"
      ]
     },
     "execution_count": 25,
     "metadata": {},
     "output_type": "execute_result"
    }
   ],
   "source": [
    "layer_2_outputs"
   ]
  },
  {
   "cell_type": "markdown",
   "id": "4dea3513-4475-4f93-9362-b9600e9d5cc3",
   "metadata": {},
   "source": [
    "---\n",
    "\n",
    "## Dense Layer Class\n",
    "\n",
    "Az előzőkben úgynevezett sűrű vagy teljesen összekapcsolt réteget használtuk. Az ilyen réteget dense vagy fully-connected layer-nek nevezik.\n",
    "\n",
    "Amikor egy modellen az elejétől a végéig átvezetjük az adatokat, azt forward pass-nak nevezzük.\n",
    "\n",
    "\n",
    "### Inicializálási értékek\n",
    "\n",
    "**A torzítást nullának szokás inicializálni.**\n",
    "\n",
    "De néha szükséges lehet a torzításokat nem nullával inicializálni. Például a halott neuronok esetében. Lehetséges, hogy a `súlyok*bemenetek+bias` nem érik el a lépésfüggvény küszöbértékét, ami azt jelenti, hogy a neuron 0-t fog kiadni. Ez nem nagy probléma, de problémává válik, ha ez minden bemeneti mintánál megtörténik ezzel a neuronnal. Ekkor tehát ennek a neuronnak a 0 kimenete egy másik neuron bemenete. Minden nullával szorzott súly nulla lesz. A 0-t kibocsátó neuronok növekvő számával a következő neuronok több bemenete fogja megkapni ezeket a 0-kat, így a hálózat lényegében \"halott\".\n",
    "\n",
    "**A súlyokat véletlenszerűen inicializáljuk egy modellhez.** (De ha egy előre betanított modellt szeretnénk betölteni, akkor a paramétereket azzal inicializáljuk, amivel az előre betanított modell befejezte. Ez azt is jelenti, hogy amikor elmentünk egy beatított modellt csak a súly és a bias értékeket kell elmenteni.)\n",
    "\n",
    "Az `np.random.randn` egy Gauss-eloszlást állít elő 0 átlaggal és 1 varianciával: pozitív és negatív véletlen számokat fog generálni, amiknek középpontja 0, és az átlagértékük is közel 0. Ezt a Gauss-eloszlást a súlyokhoz 001-gyel fogjuk megszorozni, hogy néhány nagyságrenddel kisebb számokat generáljunk. (E nélkül a modellnek több időbe fog telni az adatokhoz való illesztés a képzési folyamat során mivel a kiindulási értékek aránytalanul nagyok lesznek a frissítésekhez képest.)\n",
    "\n",
    "**Az ötlet az, hogy a modellt olyan nem nulla értékekkel indítsuk, amik elég kicsik ahhoz, hogy ne befolyásolják a képzést.** Így egy csomó értékkel kezdhetünk dolgozni, de remélhetőleg egyik sem túl nagy vagy 0. (Elég kicsi, hogy ne befolyásolja az eredményt, de mégis működik mert nem nulla.)\n",
    "\n",
    "Amikor elkezdjük betanítani a modellt, akkor azt várjuk, hogy a random számok elkezdenek egyre kevésbé randomak lenni. És ahogy elkezdenek változni a számok akkor a tartomány kitágul (mint mikor a jel kimagaslik a zajból). Tehát nem akarjuk hogy a random számok (zaj) értéke is nagy legyen."
   ]
  },
  {
   "cell_type": "markdown",
   "id": "06a17bfb-05fa-4568-bfc5-d2727d1737e0",
   "metadata": {},
   "source": [
    "---\n",
    "\n",
    "Az input layert az adat szabja meg, az egyes adatpontoknak hány tulajdonsága van. Az output layert a feladat szabja meg: hány lehetőség közül lehet választani (kutya vagy macska). Amit mi megadhatunk azok a köztes layerek amit Hidden Layers-nek neveznek.\n",
    "\n",
    "Amikor létrehozok egy neurális hálózatot **létre kell hoznom a súlyokat és bias-okat. Matematikailag csak ebből áll a hálózat.**\n",
    "\n",
    "A súlyok értéke -1 és +1 között tud lenni. A hálózatok használatának 0. lépése, hogy normalizálni kell a bemenetet (az arány megmarad, de a tartomány -1 és +1).\n",
    "\n",
    "**A neuronoknak van egy tüzelési küszöbértékük, a kimenetük nulla ha nem érik el ezt a megadott határt.**\n",
    "\n",
    "A -1 +1 tartományban a kimenet bias nélkül annyira kicsi hogy nem éri a tüzelési küszöböt. A bias-al szabályozzuk, hogy tüzeljen e és honnan. Értéke 0 és 10 között mozog általában. Ha nulla akkor biztos hogy nem fog tüzelni a neuron bármennyire nagy is legyen a súly és a bemenet.\n",
    "\n",
    "*[Ez egy önellentmondás a fentiekhez képest. De akkor melyik a helyes??]*"
   ]
  },
  {
   "cell_type": "markdown",
   "id": "e341786e-3398-4b6d-bbae-f627f4a25e7e",
   "metadata": {},
   "source": [
    "---\n",
    "\n",
    "Egy neurális hálózat létrehozásakor két dolgot kell tudnunk:\n",
    "1. Input layer nagysága (hány elemből áll egy bemenet) (az adatokból tudjuk)\n",
    "2. Hidden Layerek száma"
   ]
  },
  {
   "cell_type": "code",
   "execution_count": 26,
   "id": "7e015b44-e97e-44c1-88d1-dc6ce318df14",
   "metadata": {},
   "outputs": [],
   "source": [
    "np.random.seed(0)"
   ]
  },
  {
   "cell_type": "code",
   "execution_count": 27,
   "id": "1f25dea6-096c-4710-b2cc-1628bd49b626",
   "metadata": {},
   "outputs": [],
   "source": [
    "class Layer_Dense:\n",
    "    def __init__(self, inputs_db, neurons_db):\n",
    "        # a súlyoknak fordított a shape-el hozzuk létre, mert így nem kell majd transpozeolni\n",
    "        self.weight = np.random.randn(inputs_db, neurons_db) * 0.01 \n",
    "        self.biases = np.zeros(neurons_db)\n",
    "\n",
    "    def forward(self, inputs):\n",
    "        self.output = np.dot(inputs, self.weight) + self.biases # nem kell transpose"
   ]
  },
  {
   "cell_type": "code",
   "execution_count": 28,
   "id": "4a450d3e-58b8-4674-a8ed-7fe262aa9fee",
   "metadata": {},
   "outputs": [],
   "source": [
    "layer1 = Layer_Dense(4, 3)\n",
    "layer2 = Layer_Dense(3, 3)\n",
    "layer3 = Layer_Dense(3, 2)"
   ]
  },
  {
   "cell_type": "markdown",
   "id": "00b80527-783f-409b-8425-32b026000275",
   "metadata": {},
   "source": [
    "Arra az egyre kell nagyon figyelni, hogy a következő layernek annyi bemenetének kell lennie, ahány kimenete van az előző layernek. Az output db-nak (3) meg kell eggyeznie a következő layer input db-janak (3)"
   ]
  },
  {
   "cell_type": "code",
   "execution_count": 29,
   "id": "2f68287e-9471-4462-94b5-7c3a1d33e331",
   "metadata": {},
   "outputs": [
    {
     "data": {
      "text/plain": [
       "array([[ 0.01764052,  0.00400157,  0.00978738],\n",
       "       [ 0.02240893,  0.01867558, -0.00977278],\n",
       "       [ 0.00950088, -0.00151357, -0.00103219],\n",
       "       [ 0.00410599,  0.00144044,  0.01454274]])"
      ]
     },
     "execution_count": 29,
     "metadata": {},
     "output_type": "execute_result"
    }
   ],
   "source": [
    "# ez már az oszlop vektorokat tartalmazza: 3 neuron: három oszlop, 4 input: négy eleműek az oszlopok -> minden inputhoz egy sor \n",
    "layer1.weight "
   ]
  },
  {
   "cell_type": "markdown",
   "id": "fa86e48d-64c8-4edb-9298-d4f05db73f7f",
   "metadata": {},
   "source": [
    "Most, hogy megvannak a layereink csak végig kell nyomni rajta az adatot."
   ]
  },
  {
   "cell_type": "code",
   "execution_count": 30,
   "id": "54f83f47-bb53-4efe-8813-21a5e133b5d3",
   "metadata": {},
   "outputs": [],
   "source": [
    "# X = data inputs\n",
    "X = np.array([[1, 2, 3, 2.5],\n",
    "              [2.0, 5.0, -1.0, 2], \n",
    "              [-1.5, 2.7, 3.3, -0.8]])"
   ]
  },
  {
   "cell_type": "code",
   "execution_count": 31,
   "id": "48e44810-21f8-4af5-97f8-8c1bc53c6d32",
   "metadata": {},
   "outputs": [],
   "source": [
    "layer1.forward(X) # ezzel létrejönek az objektumon belül az output értékek"
   ]
  },
  {
   "cell_type": "code",
   "execution_count": 32,
   "id": "95354d0d-c312-4eef-b644-439a5dfaa954",
   "metadata": {},
   "outputs": [
    {
     "data": {
      "text/plain": [
       "array([[ 0.101226  ,  0.0404131 ,  0.02350209],\n",
       "       [ 0.14603679,  0.10577549,  0.00082852],\n",
       "       [ 0.06211146,  0.03827457, -0.05610798]])"
      ]
     },
     "execution_count": 32,
     "metadata": {},
     "output_type": "execute_result"
    }
   ],
   "source": [
    "layer1.output"
   ]
  },
  {
   "cell_type": "markdown",
   "id": "7e3dcc88-1f45-4ae5-9d64-5dd2ac0d110d",
   "metadata": {},
   "source": [
    "Most ezeket az adatokat kell továbbadni a második layer inputjának:"
   ]
  },
  {
   "cell_type": "code",
   "execution_count": 33,
   "id": "a404cc63-54fd-4b81-9ab2-7dd5878b13ff",
   "metadata": {},
   "outputs": [],
   "source": [
    "layer2.forward(layer1.output)"
   ]
  },
  {
   "cell_type": "code",
   "execution_count": 34,
   "id": "8a7c3548-bfaa-4a63-9ebf-123c46323174",
   "metadata": {},
   "outputs": [
    {
     "data": {
      "text/plain": [
       "array([[ 0.00097879,  0.00052624, -0.00023361],\n",
       "       [ 0.00146693,  0.00175098,  0.00041004],\n",
       "       [ 0.00042475,  0.00112664,  0.0016296 ]])"
      ]
     },
     "execution_count": 34,
     "metadata": {},
     "output_type": "execute_result"
    }
   ],
   "source": [
    "layer2.output"
   ]
  },
  {
   "cell_type": "code",
   "execution_count": 35,
   "id": "eb7d5b91-f17c-4f63-815a-076df57c8ff4",
   "metadata": {},
   "outputs": [],
   "source": [
    "layer3.forward(layer2.output)"
   ]
  },
  {
   "cell_type": "code",
   "execution_count": 36,
   "id": "e7d546b6-16c8-4e54-a5a4-f144d89df010",
   "metadata": {},
   "outputs": [
    {
     "data": {
      "text/plain": [
       "array([[ 5.88957871e-06,  2.02985089e-05],\n",
       "       [-9.37057260e-06,  5.26113685e-05],\n",
       "       [-2.92856209e-05,  2.99893735e-05]])"
      ]
     },
     "execution_count": 36,
     "metadata": {},
     "output_type": "execute_result"
    }
   ],
   "source": [
    "layer3.output"
   ]
  }
 ],
 "metadata": {
  "kernelspec": {
   "display_name": "Python 3 (ipykernel)",
   "language": "python",
   "name": "python3"
  },
  "language_info": {
   "codemirror_mode": {
    "name": "ipython",
    "version": 3
   },
   "file_extension": ".py",
   "mimetype": "text/x-python",
   "name": "python",
   "nbconvert_exporter": "python",
   "pygments_lexer": "ipython3",
   "version": "3.10.11"
  }
 },
 "nbformat": 4,
 "nbformat_minor": 5
}
