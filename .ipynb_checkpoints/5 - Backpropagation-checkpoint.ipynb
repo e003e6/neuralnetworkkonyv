{
 "cells": [
  {
   "cell_type": "code",
   "execution_count": 115,
   "id": "e4ca6be6-f4e7-47be-8bf8-0f11e9529275",
   "metadata": {},
   "outputs": [],
   "source": [
    "import numpy as np\n",
    "import matplotlib.pyplot as plt"
   ]
  },
  {
   "cell_type": "markdown",
   "id": "3f23593d-bf92-4581-9973-7e867877e298",
   "metadata": {},
   "source": [
    "# Backpropagation\n",
    "\n",
    "\n",
    "## Egyszerűsített példa \n",
    "\n",
    "Kezdjük egy egyszerűsített, csak egy neuront tartalmazó előremenetellel. A ReLU-függvénytől haladjunk visszafelé egyetlen neuronra, és tegyünk úgy, mintha ennek az egyetlen neuronnak a kimenetét akarnánk minimalizálni. Egy 3 bemenettel rendelkező példaneuront fogunk használni, vagyis 3 súlya és egy torzítása van.\n",
    "\n",
    "A veszteségérték minimalizálása a végcélunk, de fontos látni, hogy hogyan használhatjuk a láncszabályt, hogy kiszámítsuk az egyes változók hatását a ReLU kimenetre.\n",
    "\n",
    "Ez a teljes előrehaladás egyetlen neuronon:\n",
    "\n",
    "`y = ReLU(sum(mul(x0, w0), mul(x1, w1), mul(x2, w2), b))`\n",
    "\n",
    "**Kezeljük ezeket a láncolt függvényeket egyetlen nagy függvényként, ami bemeneti értékeket (x), súlyokat (w) és torzítást (b) vesz fel bemenetként, és y-t ad ki.**\n",
    "\n",
    "$\\large y = \\operatorname{Re} L U\\left(x_{0} w_{0}+x_{1} w_{1}+x_{2} w_{2}+b\\right)$\n",
    "\n",
    "Ez a nagy függvény összesen 3 láncolt függvény:\n",
    "\n",
    "1. bemeneti értékek és súlyok szorzata\n",
    "2. ezen értékek és a torzítás összege\n",
    "3. max függvény (ReLU)\n",
    "\n",
    "**A feladatunk az, hogy kiszámítsuk, hogy az egyes bemenetek, súlyok és a torzítás mennyire befolyásolja a kimenetet.**"
   ]
  },
  {
   "cell_type": "markdown",
   "id": "89ace59e-b785-403a-90bc-0dfc3dda53a9",
   "metadata": {},
   "source": [
    "<br>\n",
    "\n",
    "### Egy paraméter részleges deriváltjának kiszámítása\n",
    "\n",
    "A `w0` kimenetre gyakorolt hatásának kiszámításához a láncszabály azt mondja, hogy **számítsuk ki a ReLU deriváltját a paramétere, azaz az összeg tekintetében, majd szorozzuk meg az összegművelet részleges deriváltjával a `mul(x0, w0)` bemenete tekintetében, mivel ez a bemenet tartalmazza a kérdéses paramétert.**\n",
    "\n",
    "$\\large \\frac{\\partial}{\\partial x_{0}}\\left[ReLU\\left(\\operatorname{sum}\\left(\\operatorname{mul}\\left(x_{0}, w_{0}\\right), \\operatorname{mul}\\left(x_{1}, w_{1}\\right), \\operatorname{mul}\\left(x_{2}, w_{2}\\right), b\\right)\\right)\\right]=$ \n",
    "\n",
    "$\\Huge \\frac{d ReLU()}{d \\operatorname{sum}()} \\cdot \\frac{\\partial \\operatorname{sum}()}{\\partial mul\\left(x_{0}, w_{0}\\right)} \\cdot \\frac{\\partial mul\\left(x_{0}, w_{0}\\right)}{\\partial x_{0}}$\n",
    "\n",
    "Ezt kell megismételni az összes többi paraméter hatásának kiszámításához. \n",
    "\n",
    "**A súlyok és egy torzításhoz viszonyított deriváltak tájékoztatnak minket a hatásukról, és ezeket a súlyok és a torzítás frissítésére használjuk.**\n",
    "\n",
    "A bemenetekre vonatkozó deriváltakat a láncban további rétegek láncolására használjuk fel azáltal, hogy **átadjuk őket a láncban előző függvénynek**. _Szeretnénk tudni, hogy egy adott súly vagy torzítás milyen hatással van a veszteségre. Ezért ki kell számítanunk a veszteségfüggvény deriváltját is._ Majd alkalmazzuk a láncszabályt az összes aktiválási függvény és neuron deriváltjaival az összes egymást követő rétegben.\n",
    "\n",
    "A réteg bemeneteihez viszonyított derivált, szemben a súlyokhoz és a torzításokhoz viszonyított deriváltakkal, nem használjuk fel egyetlen paraméter frissítésére sem. Ehelyett arra használjuk, hogy egy másik réteghez láncoljuk (ezért visszavezetünk a láncban az előző réteghez).\n",
    "\n",
    "A visszamenőleges lépés során kiszámítjuk a veszteségfüggvény deriváltját, és ezt felhasználjuk a kimeneti réteg aktiválási függvényének deriváltjával való szorzásra, majd ezt az eredményt felhasználjuk a kimeneti réteg deriváltjával való szorzásra, és így tovább, az összes rejtett rétegen és aktiválási függvényen keresztül. \n",
    "\n",
    "Ezeken a rétegeken belül a súlyok és a torzítások deriváltja fogja alkotni a gradienseket, amelyeket a súlyok és a torzítások frissítésére fogunk használni. \n",
    "\n",
    "A bemenetekhez viszonyított deriváltak fogják alkotni a gradienseket, hogy az előző réteggel láncoljuk össze, Ez a réteg kiszámíthatja a súlyok és a torzítások hatását a veszteségre és a bemeneteken továbbterjedő gradiensekre."
   ]
  },
  {
   "cell_type": "markdown",
   "id": "ca717548-16ff-493d-9f17-a627e1fc0e87",
   "metadata": {},
   "source": [
    "<br>\n",
    "\n",
    "## Modellezés egy neuronon\n",
    "\n",
    "A neuronrétegünk a _következő_ rétegtől kap egy gradienst. Egy neuron esetébn ez egyetlen érték, a példában 1.\n",
    "\n",
    "Értékek: zöld, deriváltak értéke: piros.\n",
    "\n",
    "<img src=\"kepek/egyneurong.png\" width=\"600\"/>"
   ]
  },
  {
   "cell_type": "code",
   "execution_count": 116,
   "id": "8b621d5e-a9ad-490b-82a9-16dd7b56dc82",
   "metadata": {},
   "outputs": [],
   "source": [
    "x = [1.0, -2.0, 3.0]   # bemenetek\n",
    "w = [-3.0, -1.0, 2.0]  # súlyok\n",
    "b = 1.0                # bias"
   ]
  },
  {
   "cell_type": "code",
   "execution_count": 117,
   "id": "ea1a451c-1f56-4dd4-91be-f9aa70ad7f96",
   "metadata": {},
   "outputs": [],
   "source": [
    "# bemenetek és súlyok szorzata\n",
    "xw0 = x[0] * w[0]\n",
    "xw1 = x[1] * w[1]\n",
    "xw2 = x[2] * w[2]"
   ]
  },
  {
   "cell_type": "code",
   "execution_count": 118,
   "id": "eb99d121-9712-43ea-91e8-5642ac5f6830",
   "metadata": {},
   "outputs": [],
   "source": [
    "# sum függvény eredménye (ReLU bemenete)\n",
    "z = xw0 + xw1 + xw2 + b"
   ]
  },
  {
   "cell_type": "code",
   "execution_count": 119,
   "id": "60424e67-3412-4178-81df-44cb92b92608",
   "metadata": {},
   "outputs": [
    {
     "data": {
      "text/plain": [
       "6.0"
      ]
     },
     "execution_count": 119,
     "metadata": {},
     "output_type": "execute_result"
    }
   ],
   "source": [
    "z"
   ]
  },
  {
   "cell_type": "code",
   "execution_count": 120,
   "id": "8008e368-89fe-448b-bcf0-2ad1f9333db1",
   "metadata": {},
   "outputs": [],
   "source": [
    "# ReLu függvény (neuron) kimenete\n",
    "y = max(z, 0)"
   ]
  },
  {
   "cell_type": "code",
   "execution_count": 121,
   "id": "d29d2ce7-b344-4a17-8729-2de8cbc74548",
   "metadata": {},
   "outputs": [
    {
     "data": {
      "text/plain": [
       "6.0"
      ]
     },
     "execution_count": 121,
     "metadata": {},
     "output_type": "execute_result"
    }
   ],
   "source": [
    "y"
   ]
  },
  {
   "cell_type": "code",
   "execution_count": 122,
   "id": "38e073e1-0875-4d9a-ba2c-ace3e68afead",
   "metadata": {},
   "outputs": [],
   "source": [
    "# következő réteg deriváltja\n",
    "dnext = 1.0"
   ]
  },
  {
   "cell_type": "markdown",
   "id": "af2903a8-a2ca-4d69-bb7f-a9aad29f1028",
   "metadata": {},
   "source": [
    "A ReLU vagyis a `max(0, x)` függvény deriváltja 1, ha a bemenet nagyobb mint 0, egyébként 0"
   ]
  },
  {
   "cell_type": "code",
   "execution_count": 123,
   "id": "8127f7cb-11b8-4c90-ae65-d0cbfe031f84",
   "metadata": {},
   "outputs": [],
   "source": [
    "# a max függvény deriváltját kiszámító függvény\n",
    "def maxDer(x): \n",
    "    return 1. if x > 0 else 0."
   ]
  },
  {
   "cell_type": "markdown",
   "id": "15bbef22-538e-43e3-b3bf-6ea6c02caef5",
   "metadata": {},
   "source": [
    "A ReLU-t azon az értéken kell deriváni amit **ő kapott a sum függvénytől** (vagyis a példában 6-ot azaz `z`)."
   ]
  },
  {
   "cell_type": "code",
   "execution_count": 124,
   "id": "5ab75177-c0b9-41d7-9578-833f83e8bada",
   "metadata": {},
   "outputs": [
    {
     "data": {
      "text/plain": [
       "1.0"
      ]
     },
     "execution_count": 124,
     "metadata": {},
     "output_type": "execute_result"
    }
   ],
   "source": [
    "# a max függvény deriváltja a kapott értéken\n",
    "maxDer(z)  # = maxDer(xw0 + xw1 + xw2 + b)"
   ]
  },
  {
   "cell_type": "markdown",
   "id": "1356f2e6-b70a-4b15-8623-69b43a599b4b",
   "metadata": {},
   "source": [
    "A láncszabályt kell használni, és ezt a deriváltat meg kell szoroznunk a következő rétegtől kapott deriváltal (ami a példában 1):"
   ]
  },
  {
   "cell_type": "code",
   "execution_count": 125,
   "id": "40a53e42-b9b5-4cd5-bf25-5a8d013573a7",
   "metadata": {},
   "outputs": [
    {
     "data": {
      "text/plain": [
       "1.0"
      ]
     },
     "execution_count": 125,
     "metadata": {},
     "output_type": "execute_result"
    }
   ],
   "source": [
    "maxDer(z) * dnext"
   ]
  },
  {
   "cell_type": "markdown",
   "id": "c899b7b8-169a-4d37-bbc9-66360acf521b",
   "metadata": {},
   "source": [
    "Visszafelé haladva ez után jön a `sum` függvény (vagyis a súlyozott bemenetek és a torzítás összege).\n",
    "\n",
    "Vagyis ki akarjuk számítani az összegfüggvény parciális deriváltját, majd a láncszabály segítségével megszorozzuk ezt a következő, külső függvény parciális deriváltjával, ami a ReLU.\n",
    "\n",
    "Az összegművelet parciális deriváltja mindig 1, függetlenül a bemenetektől:\n",
    "\n",
    "$\\huge f(x, y)=x+y $\n",
    "\n",
    "$\\large \\frac{\\partial}{\\partial x} f(x, y) = 1$\n",
    "\n",
    "$\\large \\frac{\\partial}{\\partial y} f(x, y) = 1$"
   ]
  },
  {
   "cell_type": "code",
   "execution_count": 126,
   "id": "a0abf5b6-db17-45b9-a35d-bcf7934314e2",
   "metadata": {},
   "outputs": [],
   "source": [
    "def sumDer(x): # (a világ leghasznosabb függvénye)\n",
    "    return 1"
   ]
  },
  {
   "cell_type": "code",
   "execution_count": 127,
   "id": "8dcbd3f0-3752-4d50-af06-cf4bab2cfdaf",
   "metadata": {},
   "outputs": [
    {
     "data": {
      "text/plain": [
       "1"
      ]
     },
     "execution_count": 127,
     "metadata": {},
     "output_type": "execute_result"
    }
   ],
   "source": [
    "sumDer(xw0 + xw1 + xw2 + b)"
   ]
  },
  {
   "cell_type": "markdown",
   "id": "dce3f2e2-d1f2-468b-9970-a73bc6c372f9",
   "metadata": {},
   "source": [
    "Hozzá adjuk a lánchoz:"
   ]
  },
  {
   "cell_type": "code",
   "execution_count": 128,
   "id": "1bdf4145-6715-4680-87cf-f0c862e217b1",
   "metadata": {},
   "outputs": [
    {
     "data": {
      "text/plain": [
       "1.0"
      ]
     },
     "execution_count": 128,
     "metadata": {},
     "output_type": "execute_result"
    }
   ],
   "source": [
    "sumDer(xw0+xw1+xw2+b) * maxDer(xw0+xw1+xw2+b) * dnext"
   ]
  },
  {
   "cell_type": "markdown",
   "id": "d78d67c8-5ec2-40c5-8652-9f89ed7180dd",
   "metadata": {},
   "source": [
    "Visszafelé haladva, az összeg előtt álló függvény a súlyok és a bemenetek szorzata. A szorzat deriváltja az, amivel a bemenetet megszorozzuk:\n",
    "\n",
    "$\\large f(x, y)=x \\cdot y$\n",
    "\n",
    "$\\large \\frac{\\partial}{\\partial x} f(x, y) = y$\n",
    "\n",
    "$\\large \\frac{\\partial}{\\partial y} f(x, y) = x$\n",
    "\n",
    "Az parciális derivált x tekintetében y és y tekintetében pedig x.\n"
   ]
  },
  {
   "cell_type": "code",
   "execution_count": 129,
   "id": "af33b2bb-4fc5-468a-a408-2f6377d05495",
   "metadata": {},
   "outputs": [],
   "source": [
    "def mulDer(x, y): \n",
    "    return y"
   ]
  },
  {
   "cell_type": "code",
   "execution_count": 130,
   "id": "945ed8d3-7749-4a69-b2a5-0a4eee0892fc",
   "metadata": {},
   "outputs": [
    {
     "data": {
      "text/plain": [
       "-3.0"
      ]
     },
     "execution_count": 130,
     "metadata": {},
     "output_type": "execute_result"
    }
   ],
   "source": [
    "# x0 parciális deriváljta\n",
    "mulDer(x[0], w[0])"
   ]
  },
  {
   "cell_type": "code",
   "execution_count": 131,
   "id": "c92e8a62-6772-4624-bacb-d1d7800120ba",
   "metadata": {},
   "outputs": [
    {
     "data": {
      "text/plain": [
       "1.0"
      ]
     },
     "execution_count": 131,
     "metadata": {},
     "output_type": "execute_result"
    }
   ],
   "source": [
    "# w0 parciális deriváltja\n",
    "mulDer(w[0], x[0])"
   ]
  },
  {
   "cell_type": "markdown",
   "id": "1dde71a4-9652-4692-b49c-6aef63b1a51c",
   "metadata": {},
   "source": [
    "Használjuk a láncszabályt"
   ]
  },
  {
   "cell_type": "code",
   "execution_count": 132,
   "id": "64546cf5-9c4c-4405-a0b2-cad9b4738a7e",
   "metadata": {},
   "outputs": [
    {
     "data": {
      "text/plain": [
       "-3.0"
      ]
     },
     "execution_count": 132,
     "metadata": {},
     "output_type": "execute_result"
    }
   ],
   "source": [
    "mulDer(x[0], w[0]) * sumDer(xw0+xw1+xw2+b) * maxDer(xw0+xw1+xw2+b) * dnext"
   ]
  },
  {
   "cell_type": "markdown",
   "id": "eebf45c4-b597-4a07-b7f7-e1daed26321f",
   "metadata": {},
   "source": [
    "---\n",
    "És most a neuron összes paraméterére elvégezzük ezt parciális deriválást és láncszabályt"
   ]
  },
  {
   "cell_type": "code",
   "execution_count": 133,
   "id": "17e9be7f-57b1-43fd-83a5-28dc4dd9184a",
   "metadata": {},
   "outputs": [],
   "source": [
    "dx0 = mulDer(x[0], w[0]) * sumDer(xw0+xw1+xw2+b) * maxDer(xw0+xw1+xw2+b) * dnext\n",
    "dw0 = mulDer(w[0], x[0]) * sumDer(xw0+xw1+xw2+b) * maxDer(xw0+xw1+xw2+b) * dnext\n",
    "dx1 = mulDer(x[1], w[1]) * sumDer(xw0+xw1+xw2+b) * maxDer(xw0+xw1+xw2+b) * dnext\n",
    "dw1 = mulDer(w[1], x[1]) * sumDer(xw0+xw1+xw2+b) * maxDer(xw0+xw1+xw2+b) * dnext\n",
    "dx2 = mulDer(x[2], w[2]) * sumDer(xw0+xw1+xw2+b) * maxDer(xw0+xw1+xw2+b) * dnext\n",
    "dw2 = mulDer(w[2], x[2]) * sumDer(xw0+xw1+xw2+b) * maxDer(xw0+xw1+xw2+b) * dnext\n",
    "\n",
    "# a bias-nál nincs szorzás így ott nem is kell a sum után tovább menni\n",
    "db = sumDer(xw0+xw1+xw2+b) * maxDer(xw0+xw1+xw2+b) * dnext"
   ]
  },
  {
   "cell_type": "code",
   "execution_count": 134,
   "id": "9f30a7cf-55b5-4934-bd3b-ea9b5cbc5ef0",
   "metadata": {},
   "outputs": [
    {
     "name": "stdout",
     "output_type": "stream",
     "text": [
      "-3.0 1.0 -1.0 -2.0 2.0 3.0 1.0\n"
     ]
    }
   ],
   "source": [
    "print(dx0, dw0, dx1, dw1, dx2, dw2, db)"
   ]
  },
  {
   "cell_type": "markdown",
   "id": "cd3d4449-d1b8-407e-8ce0-0631090b2444",
   "metadata": {},
   "source": [
    "<img src=\"kepek/egyneuronkesz.jpeg\" width=\"600\"/>\n",
    "\n",
    "_Fig 9.18_"
   ]
  },
  {
   "cell_type": "markdown",
   "id": "d73c3ccc-a926-47a4-9d1a-53247e89af52",
   "metadata": {},
   "source": [
    "**A kapott eremény a paraméter hatása a teljes függvény kimenetére.**\n",
    "\n",
    "**Ezzel megkaptuk az összes paraméter hatását a kimenetre!** Az ábra jól szemlélteti, hogy az adott értéknek (zöld) mekkora a hatása a kimenetre (piros)."
   ]
  },
  {
   "cell_type": "markdown",
   "id": "3ecfea42-1f74-4e18-a286-c4edf1f16e69",
   "metadata": {},
   "source": [
    "<br>\n",
    "\n",
    "### Optimalizált számítás\n",
    "\n",
    "1. Lépés: tudjuk, hogy az összegek deriváltja mindig 1"
   ]
  },
  {
   "cell_type": "code",
   "execution_count": 135,
   "id": "c45b970d-bb95-4086-bf45-ab01740c295a",
   "metadata": {},
   "outputs": [],
   "source": [
    "dx0 = mulDer(x[0], w[0]) * 1 * maxDer(xw0+xw1+xw2+b) * dnext"
   ]
  },
  {
   "cell_type": "markdown",
   "id": "55e7e448-1a39-4ca8-af6d-08140c653034",
   "metadata": {},
   "source": [
    "2. Lépés: tudjuk, a szorzat deriváltja mindig a másik változó"
   ]
  },
  {
   "cell_type": "code",
   "execution_count": 136,
   "id": "eb5c914b-42ab-4a1a-b383-6fa405ab67e9",
   "metadata": {},
   "outputs": [],
   "source": [
    "dx0 = w[0] * maxDer(xw0+xw1+xw2+b) * dnext"
   ]
  },
  {
   "cell_type": "markdown",
   "id": "92d4cd48-9412-4456-86c8-296c943535c3",
   "metadata": {},
   "source": [
    "Egy neuron függvényének parciális deriváltja a súlyhoz viszonyítva az adott súlyhoz tartozó bemenet, a bemenethez viszonyítva pedig a hozzá tartozó súly. A neuron függvényének parciális deriváltja a torziításhoz viszonyítva mindig 1. \n",
    "\n",
    "A parciális deriváltak együttesen (egy vektorban) alkotják a gradienst."
   ]
  },
  {
   "cell_type": "code",
   "execution_count": 137,
   "id": "0c92476e-e074-448c-b8e1-8976949978ec",
   "metadata": {},
   "outputs": [],
   "source": [
    "# inputok gradiense   (z = xw0+xw1+xw2+b)\n",
    "dx = [w[0]*maxDer(z)*dnext, w[1]*maxDer(z)*dnext, w[2]*maxDer(z)*dnext]  \n",
    "\n",
    "# súlyok gradiense\n",
    "dw = [x[0]*maxDer(z)*dnext, x[1]*maxDer(z)*dnext, x[2]*maxDer(z)*dnext]\n",
    "\n",
    "# bias gradiense\n",
    "db = maxDer(z) * dnext"
   ]
  },
  {
   "cell_type": "code",
   "execution_count": 138,
   "id": "f9f4dff4-1375-4116-b35b-e19a27678693",
   "metadata": {},
   "outputs": [
    {
     "name": "stdout",
     "output_type": "stream",
     "text": [
      "[-3.0, -1.0, 2.0]\n",
      "[1.0, -2.0, 3.0]\n",
      "1.0\n"
     ]
    }
   ],
   "source": [
    "print(dx)\n",
    "print(dw)\n",
    "print(db)"
   ]
  },
  {
   "cell_type": "markdown",
   "id": "bdb3e506-6b08-4b97-86f1-4f4544886e89",
   "metadata": {},
   "source": [
    "<br>\n",
    "\n",
    "### Mit jelent a hatás?"
   ]
  },
  {
   "cell_type": "code",
   "execution_count": 139,
   "id": "7a7f7799-553f-48ac-a815-d8c6bc43b3f7",
   "metadata": {},
   "outputs": [],
   "source": [
    "def mul(x, y): return x*y"
   ]
  },
  {
   "cell_type": "code",
   "execution_count": 140,
   "id": "343d1a04-d122-4bfe-8997-2b862e60d907",
   "metadata": {},
   "outputs": [],
   "source": [
    "# neuron kimenetének kiszámítás\n",
    "def neronOut(x0, w0, x1, w1, x2, w2, b):\n",
    "    return max(0, sum([mul(x0, w0), mul(x1, w1), mul(x2, w2), b]))"
   ]
  },
  {
   "cell_type": "code",
   "execution_count": 141,
   "id": "4f8e49e1-0a60-409f-a79a-4a525a8b7cff",
   "metadata": {},
   "outputs": [],
   "source": [
    "x = [1.0, -2.0, 3.0]   # bemenetek\n",
    "w = [-3.0, -1.0, 2.0]  # súlyok\n",
    "b = 1.0                # bias"
   ]
  },
  {
   "cell_type": "code",
   "execution_count": 142,
   "id": "10d2a0c5-d21a-4151-b40d-78156403a763",
   "metadata": {},
   "outputs": [],
   "source": [
    "xinputs = np.arange(-10, 10, 0.001)"
   ]
  },
  {
   "cell_type": "code",
   "execution_count": 143,
   "id": "f98642ab-1d31-46e5-8145-7b9c09ed9d83",
   "metadata": {},
   "outputs": [
    {
     "data": {
      "image/png": "[encoded data removed]",
      "text/plain": [
       "<Figure size 640x480 with 1 Axes>"
      ]
     },
     "metadata": {},
     "output_type": "display_data"
    }
   ],
   "source": [
    "plt.plot(xinputs, [neronOut(i, w[0], x[1], w[0], x[2], w[2], b) for i in xinputs]); plt.show()"
   ]
  },
  {
   "cell_type": "markdown",
   "id": "6027d7f5-33ea-4265-bf62-94b1ea0c01db",
   "metadata": {},
   "source": [
    "*Tudjuk, hogy mivel csak egy ReLU függényt használunk a kapott eredmény vagy nulla vagy lineáris.*"
   ]
  },
  {
   "cell_type": "code",
   "execution_count": 144,
   "id": "393b6da9-a049-44eb-b516-6f31aea6ebd0",
   "metadata": {},
   "outputs": [],
   "source": [
    "# dx0 = x0 hatása a kimenetre\n",
    "dx0 = w[0] * maxDer(xw0+xw1+xw2+b) * dnext"
   ]
  },
  {
   "cell_type": "code",
   "execution_count": 145,
   "id": "7712ac80-032f-4c8d-8f0a-47e05476a41c",
   "metadata": {},
   "outputs": [
    {
     "data": {
      "text/plain": [
       "-3.0"
      ]
     },
     "execution_count": 145,
     "metadata": {},
     "output_type": "execute_result"
    }
   ],
   "source": [
    "dx0"
   ]
  },
  {
   "cell_type": "markdown",
   "id": "a2029a18-7706-458e-b8bf-b847eb10be96",
   "metadata": {},
   "source": [
    "Ez azt jelenti, hogy adott $x_0$ értéknek -3 a hatása a teljes neuron kimenetére. Vagyis **ha 1 egységnyi értékkel növelem $x_0$ értékét akkor -3 különbséget tapasztalok az eredményben**:"
   ]
  },
  {
   "cell_type": "code",
   "execution_count": 146,
   "id": "648ef44c-b2ef-4c78-8906-71b0d54d9125",
   "metadata": {},
   "outputs": [
    {
     "data": {
      "text/plain": [
       "9.0"
      ]
     },
     "execution_count": 146,
     "metadata": {},
     "output_type": "execute_result"
    }
   ],
   "source": [
    "neronOut(0, w[0], x[1], w[1], x[2], w[2], b) # x0 bemenet = x"
   ]
  },
  {
   "cell_type": "code",
   "execution_count": 147,
   "id": "5426cda7-7cb8-4f10-a411-0bf83d3af85d",
   "metadata": {},
   "outputs": [
    {
     "data": {
      "text/plain": [
       "6.0"
      ]
     },
     "execution_count": 147,
     "metadata": {},
     "output_type": "execute_result"
    }
   ],
   "source": [
    "neronOut(1, w[0], x[1], w[1], x[2], w[2], b) # x0 bemenet = x+1"
   ]
  },
  {
   "cell_type": "markdown",
   "id": "e5f5b473-2cb2-41d8-b4c9-377a1ba666d0",
   "metadata": {},
   "source": [
    "A különbség természetesen -3"
   ]
  },
  {
   "cell_type": "code",
   "execution_count": 148,
   "id": "1d58cca4-10fe-4017-8e95-48c467edff93",
   "metadata": {},
   "outputs": [
    {
     "data": {
      "image/png": "[encoded data removed]",
      "text/plain": [
       "<Figure size 640x480 with 1 Axes>"
      ]
     },
     "metadata": {},
     "output_type": "display_data"
    }
   ],
   "source": [
    "fig, ax = plt.subplots()\n",
    "ax.plot(xinputs, [neronOut(i, w[0], x[1], w[1], x[2], w[2], b) for i in xinputs], label='$x_0$ változó paraméter $=x$')\n",
    "ax.plot(xinputs, [neronOut(i+1, w[0], x[1], w[1], x[2], w[2], b) for i in xinputs], label='$x_0$ változó paraméter $=x+1$')\n",
    "\n",
    "ax.plot(xinputs, [neronOut(x[0], i, x[1], w[1], x[2], w[2], b) for i in xinputs], label='$w_0$ változó paraméter $=x$')\n",
    "ax.plot(xinputs, [neronOut(x[0], i+1, x[1], w[1], x[2], w[2], b) for i in xinputs], label='$w_0$ változó paraméter $=x+1$')\n",
    "\n",
    "ax.plot(xinputs, [neronOut(i, i, x[1], w[1], x[2], w[2], b) for i in xinputs], label='$x_0$ és $w_0$ változó paraméter $=x$')\n",
    "ax.plot(xinputs, [neronOut(i+1, i+1, x[1], w[1], x[2], w[2], b) for i in xinputs], label='$x_0$ és $w_0$ változó paraméter $=x+1$')\n",
    "\n",
    "ax.set_ylim((-1, 50)); ax.legend(loc=(1.05, 0.3)); plt.show()"
   ]
  },
  {
   "cell_type": "markdown",
   "id": "1d3e1167-7b88-4e49-88ea-8bbd6bb54732",
   "metadata": {},
   "source": [
    "*(Egy kis káosz aminek semmi értelme, csak hogy szemléltesse, hogy a hatások összesége nagyon bonyolultak.)*"
   ]
  },
  {
   "cell_type": "markdown",
   "id": "cdd323ed-a202-4e57-9ce2-828831ed5705",
   "metadata": {},
   "source": [
    "<br>\n",
    "\n",
    "### Módosított paraméter: módosított hatás a kimenetre\n",
    "\n",
    "Ehhez az egyetlen neuronra vonatkozó példához nem lesz szükségünk a dx-re (mivel nem az inputot hanem a súlyok és a bias hatására vagyunk kíváncsiak). A valóságban persze dx-et is ki kell számolni mivel több réteg esetén a bemenetünkhöz viszonyított részleges deriváltunkkal folytatjuk a backpropagálást az előző rétegekbe.\n",
    "\n",
    "Ezeket a gradienseket alkalmazhatjuk a súlyokra, hogy remélhetőleg minimalizáljuk a kimenetet. Ez tipikusan az optimalizáló feladata\n",
    "\n",
    "de láthatjuk ennek egy egyszerűsített változatát, ha közvetlenül a gradiens negatív hányadát alkalmazzuk a súlyainkra. A gradiensre negatív törtet alkalmazunk, mivel a végső kimeneti értéket szeretnénk csökkenteni, a gradiens pedig a legmeredekebb emelkedés irányát mutatja. (?)"
   ]
  },
  {
   "cell_type": "code",
   "execution_count": 149,
   "id": "56b9ff87-488d-4403-ba7f-e77a4313add3",
   "metadata": {},
   "outputs": [
    {
     "data": {
      "text/plain": [
       "6.0"
      ]
     },
     "execution_count": 149,
     "metadata": {},
     "output_type": "execute_result"
    }
   ],
   "source": [
    "# eredeti paraméterekkel a neuron kimenete:\n",
    "neronOut(x[0], w[0], x[1], w[1], x[2], w[2], b)"
   ]
  },
  {
   "cell_type": "code",
   "execution_count": 150,
   "id": "0177da7c-1d76-4fc0-9a2f-e4fc01bd0454",
   "metadata": {},
   "outputs": [],
   "source": [
    "w[0] += -0.001 * dw[0]\n",
    "w[1] += -0.001 * dw[1]\n",
    "w[2] += -0.001 * dw[2]\n",
    "b += -0.001 * db"
   ]
  },
  {
   "cell_type": "code",
   "execution_count": 151,
   "id": "c66d3f9b-9b38-4474-b039-147aeda861e4",
   "metadata": {},
   "outputs": [
    {
     "name": "stdout",
     "output_type": "stream",
     "text": [
      "[-3.001, -0.998, 1.997] 0.999\n"
     ]
    }
   ],
   "source": [
    "print(w, b)"
   ]
  },
  {
   "cell_type": "markdown",
   "id": "1e8b1f29-64b8-429f-b287-be5e6aff6436",
   "metadata": {},
   "source": [
    "Most kissé megváltoztattuk a súlyokat és a torzítást úgy, hogy a kimenetet (intelligensen) csökkentsük. \n",
    "\n",
    "A hatás értékének apró hányadát hozzáadtuk az eredeti értékhez. Ez azt jelenti, hogy **minél KISEBB a hatás annál nagyobb értékben módosítjuk a paraméter értékét.**\n",
    "\n",
    "\n",
    "A módosításaink hatását a kimenetre egy újabb forward pass elvégzésével láthatjuk:"
   ]
  },
  {
   "cell_type": "code",
   "execution_count": 152,
   "id": "7cb466e1-02f7-4eec-a11d-15ea5deceb86",
   "metadata": {},
   "outputs": [
    {
     "data": {
      "text/plain": [
       "5.985"
      ]
     },
     "execution_count": 152,
     "metadata": {},
     "output_type": "execute_result"
    }
   ],
   "source": [
    "# a módosított paraméterekkel a neuron kimenete:\n",
    "neronOut(x[0], w[0], x[1], w[1], x[2], w[2], b) # x0 bemenet = x"
   ]
  },
  {
   "cell_type": "markdown",
   "id": "dcf64ab8-c818-4c11-bb0d-02b7e9f95f3a",
   "metadata": {},
   "source": [
    "Csökkentettük a neuronnak a kimenetét. Ennek persze a gyakorlatban nincs értelme: a veszteségértéket akarjuk csökkenteni, ami az utolsó függvény eredménye (és az első gradiens a backpropagation során)."
   ]
  },
  {
   "cell_type": "code",
   "execution_count": 153,
   "id": "7c371def-2c03-4119-b1f1-1003f82de596",
   "metadata": {},
   "outputs": [
    {
     "data": {
      "text/plain": [
       "-3.001"
      ]
     },
     "execution_count": 153,
     "metadata": {},
     "output_type": "execute_result"
    }
   ],
   "source": [
    "# a módosított paraméterekkel x0 hatása a kimenetre:\n",
    "w[0] * maxDer(xw0+xw1+xw2+b) * dnext"
   ]
  },
  {
   "cell_type": "markdown",
   "id": "593d005c-ae59-489d-bf1b-8e2bf9775bb4",
   "metadata": {},
   "source": [
    "<br>\n",
    "\n",
    "## Modellezés egy rétegen\n",
    "\n",
    "A réteg egy érték helyett értékek vektorát adja ki. Egy réteg minden egyes neuronja kapcsolódik a következő réteg összes neuronjához.\n",
    "\n",
    "A visszafelé haladáskor **a réteg minden neuronja a deriváltak vektorát kapja**. A réteg esetén ez vektorok listája (2D array).\n",
    "\n",
    "A következő réteg minden egyes neuronja a függvényének egy részleges deriváltját adja vissza e bemenethez képest. Az aktuális réteg neuronja egy ezekből a deriváltakból álló vektort fog kapni.\n",
    "\n",
    "Ahogy már az egy neuronos példában láttuk egy adott neuron egyetlen derivált értéket kap: ezt **a vektort összegeznünk kell**. A bemenetek mentén kell összegeznünk.\n",
    "\n",
    "Eredményül pedig **minden neuron az összes bemenetéhez viszonyított parciális deriváltak gradiensét fogja kiadni, és az összes neuron ezekből a vektorokból egy listát fog alkotni,** és így tovább..."
   ]
  },
  {
   "cell_type": "markdown",
   "id": "e016d62a-3f08-41cc-ae00-8c3ddd4ce0fa",
   "metadata": {},
   "source": [
    "A bemenethez viszonyított parciális derivált egyenlő a hozzá tartozó súlyokkal. Ez azt jelenti, hogy az összes bemenetre vonatkozó parciális deriváltak tömbje megegyezik a súlyok tömbjével.  \n",
    "\n",
    "Mivel ez a tömb transzponált, az oszlopok helyett a sorait kell összegeznünk. A láncszabály alkalmazásához meg kell szoroznunk őket a következő függvény gradiensével.\n",
    "\n",
    "Az ezt bemutató kódban a láncszabály alkalmazásához vesszük a transzponált súlyokat, amelyek a bemenetekhez viszonyított deriváltak transzponált tömbjei, és megszorozzuk őket a megfelelő gradiensükkel (adott neuronokhoz viszonyítva). Ezután a bemenetekkel együtt összegezzük. Ezután kiszámítjuk a gradienst a következő réteghez a backpropagációban. A „következő” réteg a backpropagációban a modell létrehozásának sorrendjében az előző réteg.\n",
    "\n",
    "\n",
    "Itt már ketté válik a dolog: \n",
    "1. ki kell számolnunk a bemenetek hatását, amit át adunk az előző rétegnek mint gradniens\n",
    "2. ki kell számulnunk a súlyok hatását, amit pedig frissíteni fogunk, hogy csökkentsük a hibát\n",
    "\n",
    "<br>\n",
    "\n",
    "#### Bemenet hatásának kiszámítása (következő grandens létrehozása)"
   ]
  },
  {
   "cell_type": "code",
   "execution_count": 164,
   "id": "d3aa5470-aa8a-4c28-b9ce-32c09657fb6f",
   "metadata": {},
   "outputs": [],
   "source": [
    "# három bemenet -> 3 neuron -> 3 súlykészlet (3x3 súly) és 3 torzítás\n",
    "weights = np.array([[0.2, 0.8, -0.5, 1],        # első neuron súlyai\n",
    "                    [0.5, -0.91, 0.26, -0.5],   # ...\n",
    "                    [-0.26, -0.27, 0.17, 0.87]]).T\n",
    "\n",
    "# következő rétegtől kapott derivált értékek (a következő réteg egyes inputjainak hatása a teljes háló kimenetére)\n",
    "dnext = np.array([[1., 1., 1.]])"
   ]
  },
  {
   "cell_type": "code",
   "execution_count": 155,
   "id": "7a02b794-1575-4a88-aa27-761b1df750b6",
   "metadata": {},
   "outputs": [
    {
     "data": {
      "text/plain": [
       "array([[ 0.2 ,  0.5 , -0.26],\n",
       "       [ 0.8 , -0.91, -0.27],\n",
       "       [-0.5 ,  0.26,  0.17],\n",
       "       [ 1.  , -0.5 ,  0.87]])"
      ]
     },
     "execution_count": 155,
     "metadata": {},
     "output_type": "execute_result"
    }
   ],
   "source": [
    "weights"
   ]
  },
  {
   "cell_type": "code",
   "execution_count": 156,
   "id": "67b03149-34b5-4ac7-8efe-fd2ea073d56e",
   "metadata": {},
   "outputs": [
    {
     "data": {
      "text/plain": [
       "0.43999999999999995"
      ]
     },
     "execution_count": 156,
     "metadata": {},
     "output_type": "execute_result"
    }
   ],
   "source": [
    "#              0.2 * 1         +         0.5 * 1         +        -0.26 * 1\n",
    "sum([weights[0][0]*dnext[0][0], weights[0][1]*dnext[0][1], weights[0][2]*dnext[0][2]])"
   ]
  },
  {
   "cell_type": "markdown",
   "id": "69cd6320-8a87-47c5-886c-9703f9cdf2ca",
   "metadata": {},
   "source": [
    "A NumPy tömbök vektor számítása miatt egyszerűsíthetjük:"
   ]
  },
  {
   "cell_type": "code",
   "execution_count": 157,
   "id": "f596ab84-41e1-4ec9-bcd0-945c97d1a9b8",
   "metadata": {},
   "outputs": [
    {
     "data": {
      "text/plain": [
       "0.43999999999999995"
      ]
     },
     "execution_count": 157,
     "metadata": {},
     "output_type": "execute_result"
    }
   ],
   "source": [
    "# a tömb első vektorát összeszorzom a gradiens első vektorával, az így kapott sorvektort összegzem\n",
    "np.sum(weights[0]*dnext[0])"
   ]
  },
  {
   "cell_type": "code",
   "execution_count": 158,
   "id": "1b25f861-82fb-4269-92c7-efe61b7ae3b3",
   "metadata": {},
   "outputs": [],
   "source": [
    "dx0 = np.sum(weights[0]*dnext[0])\n",
    "dx1 = np.sum(weights[1]*dnext[0])\n",
    "dx2 = np.sum(weights[2]*dnext[0])\n",
    "dx3 = np.sum(weights[3]*dnext[0])\n",
    "\n",
    "dinputs = np.array([dx0, dx1, dx2, dx3])"
   ]
  },
  {
   "cell_type": "code",
   "execution_count": 159,
   "id": "a09762a2-f434-40d9-87c5-7113fdd61e13",
   "metadata": {},
   "outputs": [
    {
     "data": {
      "text/plain": [
       "array([ 0.44, -0.38, -0.07,  1.37])"
      ]
     },
     "execution_count": 159,
     "metadata": {},
     "output_type": "execute_result"
    }
   ],
   "source": [
    "dinputs"
   ]
  },
  {
   "cell_type": "markdown",
   "id": "12eda6f3-8785-4912-a8d6-6c1a3a4bc16a",
   "metadata": {},
   "source": [
    "<img src=\"kepek/gradossz.jpeg\" width=\"400\"/>\n",
    "\n",
    "Az input-ra muató piros nyilak mentén kell összegezni az értékeket, vagyis **az adott bemenet minden neuronra gyakorolt hatásának az összegét számoljuk ki.**"
   ]
  },
  {
   "cell_type": "markdown",
   "id": "867707c4-cc00-451e-8c42-be152e91f182",
   "metadata": {},
   "source": [
    "Ugyanezt az eredményt elérhetjük a `dot()` függvényel is (és batch esetén már ezt is kell használni):\n"
   ]
  },
  {
   "cell_type": "code",
   "execution_count": null,
   "id": "3e2e31bd-0a22-4ce8-827e-b9bdef4a1671",
   "metadata": {},
   "outputs": [],
   "source": []
  },
  {
   "cell_type": "code",
   "execution_count": null,
   "id": "eec903ac-5769-4872-aae6-38f35e080436",
   "metadata": {},
   "outputs": [],
   "source": []
  },
  {
   "cell_type": "code",
   "execution_count": null,
   "id": "3fa4d7e9-6ecc-4598-b904-acf1fc9c189a",
   "metadata": {},
   "outputs": [],
   "source": []
  },
  {
   "cell_type": "code",
   "execution_count": null,
   "id": "8c4ebe83-64be-4242-9451-bd8ac6e3cb75",
   "metadata": {},
   "outputs": [],
   "source": []
  },
  {
   "cell_type": "markdown",
   "id": "753cef59-9aa1-412d-a7e2-5720eb7122b6",
   "metadata": {},
   "source": [
    "\n",
    "Azt akarjuk, hogy ennek a számításnak a kimenete a következő függvény gradiensének alakja legyen - minden neuronhoz egy parciális derivált tartozik, és ezt megszorozzuk a neuron bemenethez viszonyított parciális deriváltjával.\n",
    "\n",
    "Ezután minden ilyen gradienst meg akarunk szorozni minden egyes olyan parciális deriváltal, amelyek az adott neuron bemenetéhez kapcsolódnak, és ezek sorok. \n",
    "\n",
    "A pontszorzat a szorzás és az összegzés elvégzéséhez az első argumentumból sorokat, a másodikból pedig oszlopokat vesz fel; ezért ehhez a számításhoz transzponálnunk kell a súlyokat:\n",
    "\n",
    "\n",
    "Több mintával a réteg egy gradiensekből álló listát fog visszaadni. (batch)"
   ]
  },
  {
   "cell_type": "code",
   "execution_count": 173,
   "id": "7c51cb8e-26ce-4507-a133-1673805136a6",
   "metadata": {},
   "outputs": [],
   "source": [
    "# súlyok a három elemű réteghez (minden sor egy neuron súlyai)\n",
    "weights = np.array([[ 0.2 ,  0.8 , -0.5 ,  1.  ],\n",
    "                    [ 0.5 , -0.91,  0.26, -0.5 ],\n",
    "                    [-0.26, -0.27,  0.17,  0.87]])\n",
    "\n",
    "# három mintás bemenet\n",
    "inputs = np.array([[ 1. ,  2. ,  3. ,  2.5],\n",
    "                   [ 2. ,  5. , -1. ,  2. ],\n",
    "                   [-1.5,  2.7,  3.3, -0.8]])\n",
    "\n",
    "# a következő rétegtől kapott gradensek (a három mintás adatra: minden sor egy külön adatsor gradense)\n",
    "dnext = np.array([[1., 1., 1.],\n",
    "                  [2., 2., 2.],\n",
    "                  [3., 3., 3.]])"
   ]
  },
  {
   "cell_type": "code",
   "execution_count": 174,
   "id": "d7d16d15-ea87-4c2c-93ca-b73f34866b01",
   "metadata": {},
   "outputs": [],
   "source": [
    "dinputs = np.dot(dnext, weights)"
   ]
  },
  {
   "cell_type": "code",
   "execution_count": 176,
   "id": "ad01f004-8c56-4e5a-a1bc-878ff1d5172f",
   "metadata": {},
   "outputs": [
    {
     "data": {
      "text/plain": [
       "array([[ 0.44, -0.38, -0.07,  1.37],\n",
       "       [ 0.88, -0.76, -0.14,  2.74],\n",
       "       [ 1.32, -1.14, -0.21,  4.11]])"
      ]
     },
     "execution_count": 176,
     "metadata": {},
     "output_type": "execute_result"
    }
   ],
   "source": [
    "dinputs"
   ]
  },
  {
   "cell_type": "code",
   "execution_count": null,
   "id": "161729f5-f08a-4059-b930-3b0c4c5783b6",
   "metadata": {},
   "outputs": [],
   "source": []
  },
  {
   "cell_type": "code",
   "execution_count": 178,
   "id": "395285db-4558-4611-a1e8-915eae3e8483",
   "metadata": {},
   "outputs": [],
   "source": [
    "dweights = np.dot(inputs.T, dnext)"
   ]
  },
  {
   "cell_type": "code",
   "execution_count": 179,
   "id": "c854aaf1-769d-432e-a493-5a7fdf0ae5b4",
   "metadata": {},
   "outputs": [
    {
     "data": {
      "text/plain": [
       "array([[ 0.5,  0.5,  0.5],\n",
       "       [20.1, 20.1, 20.1],\n",
       "       [10.9, 10.9, 10.9],\n",
       "       [ 4.1,  4.1,  4.1]])"
      ]
     },
     "execution_count": 179,
     "metadata": {},
     "output_type": "execute_result"
    }
   ],
   "source": [
    "dweights"
   ]
  },
  {
   "cell_type": "code",
   "execution_count": null,
   "id": "0dfbc32b-2914-4769-8d3e-986f1f052b1f",
   "metadata": {},
   "outputs": [],
   "source": []
  },
  {
   "cell_type": "code",
   "execution_count": null,
   "id": "64c43415-0f1b-471b-b1ce-b56fec79db47",
   "metadata": {},
   "outputs": [],
   "source": []
  },
  {
   "cell_type": "code",
   "execution_count": null,
   "id": "2d27940c-c14d-408c-ba7d-e20d1030daf3",
   "metadata": {},
   "outputs": [],
   "source": []
  },
  {
   "cell_type": "code",
   "execution_count": null,
   "id": "392d08a7-11f4-4a3f-ac58-2e2f8f13105a",
   "metadata": {},
   "outputs": [],
   "source": []
  },
  {
   "cell_type": "code",
   "execution_count": null,
   "id": "fbdfad97-10f1-48aa-9a2d-e9915404426e",
   "metadata": {},
   "outputs": [],
   "source": []
  },
  {
   "cell_type": "code",
   "execution_count": null,
   "id": "f302611e-daab-4229-833e-353180c98843",
   "metadata": {},
   "outputs": [],
   "source": []
  },
  {
   "cell_type": "code",
   "execution_count": null,
   "id": "60ee6e51-4f4d-4d5f-b3f3-9ff3c8955919",
   "metadata": {},
   "outputs": [],
   "source": []
  },
  {
   "cell_type": "code",
   "execution_count": null,
   "id": "196b293b-cd30-4fbc-8e99-6b6b601bf58a",
   "metadata": {},
   "outputs": [],
   "source": []
  },
  {
   "cell_type": "code",
   "execution_count": null,
   "id": "b2769faa-f4ed-42a5-b8d0-2f4c5c7eb6ad",
   "metadata": {},
   "outputs": [],
   "source": []
  },
  {
   "cell_type": "code",
   "execution_count": null,
   "id": "c018a326-fd25-4071-aa37-33d8f1b522dc",
   "metadata": {},
   "outputs": [],
   "source": []
  },
  {
   "cell_type": "markdown",
   "id": "9462d526-0750-4f0a-acfc-ac375f448525",
   "metadata": {},
   "source": [
    "A láncszabályt így alkalmazzuk - visszafelé haladva a ReLU() deriváltjával, az összegző művelet deriváltjával, mindkettő szorzatával, és így tovább -, ezt a folyamatot nevezzük a láncszabályt alkalmazó visszaterjedésnek. \n",
    "\n",
    "Ahogy a név is jelzi, az így kapott kimeneti függvény gradienseit visszavezetjük a neurális hálózaton keresztül, a későbbi rétegekből származó későbbi függvények gradiensének és az aktuális függvény gradiensének szorzatát használva. "
   ]
  },
  {
   "cell_type": "code",
   "execution_count": null,
   "id": "ea433563-63fb-4723-b8ed-1b1a41e5f484",
   "metadata": {},
   "outputs": [],
   "source": []
  },
  {
   "cell_type": "code",
   "execution_count": null,
   "id": "497ccd5b-b705-4ce1-b83b-8949627946fc",
   "metadata": {},
   "outputs": [],
   "source": []
  },
  {
   "cell_type": "code",
   "execution_count": null,
   "id": "bf8c19e6-37b0-4fa9-a728-7a1eb44dd280",
   "metadata": {},
   "outputs": [],
   "source": []
  },
  {
   "cell_type": "code",
   "execution_count": null,
   "id": "c03f7900-e0f3-4550-bbe1-c941428ae98c",
   "metadata": {},
   "outputs": [],
   "source": []
  },
  {
   "cell_type": "code",
   "execution_count": null,
   "id": "08f5a29e-f641-4b8f-a911-bf1565a7ad46",
   "metadata": {},
   "outputs": [],
   "source": []
  },
  {
   "cell_type": "code",
   "execution_count": null,
   "id": "87bfa9a8-1c2c-4398-89b8-f14f44645a5a",
   "metadata": {},
   "outputs": [],
   "source": []
  },
  {
   "cell_type": "code",
   "execution_count": null,
   "id": "bfd51f13-1017-4938-b01f-a99427960ede",
   "metadata": {},
   "outputs": [],
   "source": []
  }
 ],
 "metadata": {
  "kernelspec": {
   "display_name": "Python 3 (ipykernel)",
   "language": "python",
   "name": "python3"
  },
  "language_info": {
   "codemirror_mode": {
    "name": "ipython",
    "version": 3
   },
   "file_extension": ".py",
   "mimetype": "text/x-python",
   "name": "python",
   "nbconvert_exporter": "python",
   "pygments_lexer": "ipython3",
   "version": "3.10.11"
  }
 },
 "nbformat": 4,
 "nbformat_minor": 5
}
