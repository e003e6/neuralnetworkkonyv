{
 "cells": [
  {
   "cell_type": "code",
   "execution_count": 1,
   "id": "6bb9849a-e32c-48c8-ad2e-97491dc20df3",
   "metadata": {},
   "outputs": [],
   "source": [
    "import numpy as np"
   ]
  },
  {
   "cell_type": "markdown",
   "id": "2d081c1e-6a34-4042-bd01-bc66be2cd7ec",
   "metadata": {},
   "source": [
    "# Calculating Error with Loss\n",
    "\n",
    "Ahhoz, hogy tanítani tudjuk a modelt tudnunk kell számszerűsíteni, hogy mennyire rossz a modell.\n",
    "\n",
    "Szükségünk van egy olyan módszerre, amivel kiszámíthatjuk, hogy a neurális hálózat mennyire téved az előrejelzésekben, hogy elkezdhessük a súlyok és a torzítások beállítását, hogy csökkentsük a hibát.\n",
    "\n",
    "A modell betanításához a súlyokat és a torzításokat úgy módosítjuk, hogy javítsuk a modell pontosságát, azaz csökkentsük a hiba mértékét. A veszteségfüggvény az az algoritmus, ami számszerűsíti a modell tévedését. A veszteség (loss) ennek a mérőszámnak a mértéke. Mivel a veszteség a modell hibája, ideális esetben értéke 0.\n",
    "\n",
    "A neurális hálózat kimenete mindig egy \"bizalom\", és a helyes válaszban való nagyobb bizalom jobb. Arra törekszünk, hogy növeljük a helyes bizalmat és csökkentsük a helytelen bizalmat.\n",
    "\n",
    "Több féle veszteség függvény létezik, mindig a célhoz választjuk őket. \n",
    "\n",
    "Néhány művelet mindegyikben közös. Az egyik ilyen művelet a teljes veszteség kiszámítása, a teljes veszteség mindig az összes minta veszteségének átlagértéke.\n",
    "\n",
    "(Például a regressziót végző neurális hálózatoknál használt veszteségfüggvények a négyzetes hiba (átlagos négyzetes hiba).)\n",
    "\n",
    "A veszteség hasznos mérőszám a modell optimalizálásához, a gyakorlatban a veszteséggel együtt használt mérőszám a pontosság, amely azt írja le, hogy a legnagyobb bizalom milyen gyakran a helyes osztály."
   ]
  },
  {
   "cell_type": "markdown",
   "id": "8de47c95-205f-4b25-841c-6bba234d507f",
   "metadata": {},
   "source": [
    "<br>\n",
    "\n",
    "## Categorical Cross-Entropy Loss\n",
    "\n",
    "Osztályozás feladathoz használatos veszteség függvény.\n",
    "\n",
    "A modell egy softmax aktiválási függvényt használ a kimeneti réteghez, vagyis egy valószínűségi eloszlást ad ki. \n",
    "\n",
    "A kategorikus kereszt-entrópiát egy alapigazság (\"targets\", $y$) és valamilyen megjósolt eloszlás (\"predictions\", $\\hat{y}$) összehasonlítására használják.\n",
    "\n",
    "Az $y$ (tényleges/kívánatos eloszlás) és az $\\hat{y}$ (előre jelzett eloszlás) kategorikus kereszt-entrópiájának kiszámítására szolgáló képlet:\n",
    "\n",
    "$$\\Huge\n",
    "L_i=-\\sum_j y_{i, j} \\log \\left(\\hat{y}_{i, j}\\right)\n",
    "$$\n",
    "\n",
    "\n",
    "- $L_i$: a minta veszteségértéke \n",
    "- $i$: $i$-edik minta a halmazban\n",
    "- $j$: címke/kimeneti index,\n",
    "- $y$: célértékek\n",
    "- $\\hat{y}$: az előre jelzett érték\n",
    "\n",
    "\n",
    "**A kereszt-entrópia két valószínűségi eloszlást hasonlít össze.**\n",
    "\n",
    "A kívánt valószínűségi eloszlás: `[1, 0, 0]` (tudjuk, hogy az első kategória a helyes)\n",
    "\n",
    "Az ilyen vektorokat one-hot-nak nevezzük, mivel az egyik érték \"forró\" (on), 1 értékkel, a többi pedig \"hideg\" (off), 0 értékkel. \n",
    "\n",
    "Amikor a modell eredményeit egy one-hot vektorral hasonlítjuk össze a kereszt-entrópia segítségével, az egyenlet többi része lenullázódik, és a célvalószínűség log veszteségét megszorozzuk 1-gyel, így a kereszt-entrópia számítása nagyon egyszerű. \n",
    "\n",
    "Mondjuk a modellünk softMax kimenete: `[0.7, 0.1, 0.2]`\n",
    "\n",
    "\n",
    "\\begin{aligned}\n",
    "& L_i=-\\sum_j y_{i, j} \\log \\left(\\hat{y}_{i, j}\\right)=-(1 \\cdot \\log (0.7)+0 \\cdot \\log (0.1)+0 \\cdot \\log (0.2))= \\\\\n",
    "& =-(-0.35667494393873245+0+0)=0.35667494393873245\n",
    "\\end{aligned}\n",
    "\n",
    "\n",
    "Az eredmény bizalmi szintje lehet például `[0.22, 0.6, 0.18]` vagy `[0.32, 0.36, 0.32]` \n",
    "\n",
    "Mindkét esetben a modell a második osztályt adja vissza előrejelzésként, de a modell bizalma csak az első esetében magas. A kategorikus kereszt-entrópia veszteség ezt figyelembe veszi, és **annál nagyobb veszteséget ad ki, minél kisebb a bizalom.** A veszteség értéke a megbízhatósági szinttel együtt nő, és megközelíti a 0-t (`log(0)` nincsen)"
   ]
  },
  {
   "cell_type": "code",
   "execution_count": 2,
   "id": "57092a7c-828a-4a24-a96b-ba77a5ae4c7b",
   "metadata": {},
   "outputs": [],
   "source": [
    "softmax_output = [0.7, 0.1, 0.2]   # ezt adja a háló \n",
    "target_output = [1, 0, 0]          # ez lenne az ideális (one-hot vector)"
   ]
  },
  {
   "cell_type": "code",
   "execution_count": 3,
   "id": "e88397c2-97a9-468a-ac11-f61a35aa3a62",
   "metadata": {},
   "outputs": [],
   "source": [
    "loss = -(np.log(softmax_output[0]*target_output[0] + \n",
    "                softmax_output[1]*target_output[1] + \n",
    "                softmax_output[2]*target_output[2]))"
   ]
  },
  {
   "cell_type": "code",
   "execution_count": 4,
   "id": "03cc7706-289b-4aa4-9895-647df6da6651",
   "metadata": {},
   "outputs": [
    {
     "data": {
      "text/plain": [
       "0.35667494393873245"
      ]
     },
     "execution_count": 4,
     "metadata": {},
     "output_type": "execute_result"
    }
   ],
   "source": [
    "loss"
   ]
  },
  {
   "cell_type": "markdown",
   "id": "6c240840-f60d-452f-a79c-673fddc45b20",
   "metadata": {},
   "source": [
    "Tehát ez a hiba nagysága, minél kissebb annál jobb."
   ]
  },
  {
   "cell_type": "markdown",
   "id": "7f06a841-52b5-42fe-9907-f6a008b2e78b",
   "metadata": {},
   "source": [
    "---\n",
    "\n",
    "### Batch \n",
    "\n",
    "Több eredményt akarunk egyszerre kiértékelni."
   ]
  },
  {
   "cell_type": "code",
   "execution_count": 5,
   "id": "2b27a357-418b-4720-914a-242c7df765b2",
   "metadata": {},
   "outputs": [],
   "source": [
    "# batch=3 output\n",
    "softmax_outputs = np.array([[0.7, 0.1, 0.2],\n",
    "                            [0.1, 0.5, 0.4],\n",
    "                            [0.02, 0.9, 0.08]])  "
   ]
  },
  {
   "cell_type": "markdown",
   "id": "cd97725b-848a-4706-902c-b903b044012b",
   "metadata": {},
   "source": [
    "A példában 3 osztály van: valamit \"kutya\", \"macska\" vagy \"ember\" kategóriába próbálunk besorolni. \n",
    "- kutya 1. osztály (0. index)\n",
    "- macska 2. osztály (1. index)\n",
    "- ember 3. osztály (2. index)\n",
    "\n",
    "Tegyük fel, hogy a helyes válaszok: *kutya, macska, macska* (első kép kutya, második macsak, harmadik macska).\n",
    "\n",
    "tehát a célérték index lista:"
   ]
  },
  {
   "cell_type": "code",
   "execution_count": 6,
   "id": "56af46c9-3eb3-4c0d-a4c6-96ffc04c3541",
   "metadata": {},
   "outputs": [],
   "source": [
    "class_targets = [0, 1, 1] "
   ]
  },
  {
   "cell_type": "code",
   "execution_count": 7,
   "id": "e5501992-ce98-4572-ab21-1f76e470be8a",
   "metadata": {},
   "outputs": [
    {
     "data": {
      "text/plain": [
       "array([0.7, 0.5, 0.9])"
      ]
     },
     "execution_count": 7,
     "metadata": {},
     "output_type": "execute_result"
    }
   ],
   "source": [
    "# a helyes válaszokhoz tartozó valószínűségi értékek:\n",
    "softmax_outputs[[0, 1, 2], class_targets]"
   ]
  },
  {
   "cell_type": "markdown",
   "id": "54051b9d-c670-43c4-b462-a477e8e0b1df",
   "metadata": {},
   "source": [
    "_Minden sor kell, de mindegyikből csak a helyes válasz. A nullás sornak kérem a nullás elemét, az egyes sornak kérem az egyes elemét, a kettes sornak kérem az egyes elemét._"
   ]
  },
  {
   "cell_type": "code",
   "execution_count": 8,
   "id": "0c946ea5-a2f4-41f0-af5b-53683fd64e21",
   "metadata": {},
   "outputs": [
    {
     "data": {
      "text/plain": [
       "array([0.7, 0.5, 0.9])"
      ]
     },
     "execution_count": 8,
     "metadata": {},
     "output_type": "execute_result"
    }
   ],
   "source": [
    "# dinamikus megoldás\n",
    "softmax_outputs[np.arange(len(softmax_output)), class_targets]"
   ]
  },
  {
   "cell_type": "markdown",
   "id": "84f38043-2ff6-4611-bde5-e15480a74b29",
   "metadata": {},
   "source": [
    "A helyes megoldásokon kiszámolom a loss értékeket:"
   ]
  },
  {
   "cell_type": "code",
   "execution_count": 9,
   "id": "b91b9890-249d-49ed-b7b1-12305cf06528",
   "metadata": {},
   "outputs": [],
   "source": [
    "loss = -(np.log(softmax_outputs[np.arange(len(softmax_output)), class_targets]))"
   ]
  },
  {
   "cell_type": "code",
   "execution_count": 10,
   "id": "bf2071c0-1b95-4099-941d-60943fb890d2",
   "metadata": {},
   "outputs": [
    {
     "data": {
      "text/plain": [
       "array([0.35667494, 0.69314718, 0.10536052])"
      ]
     },
     "execution_count": 10,
     "metadata": {},
     "output_type": "execute_result"
    }
   ],
   "source": [
    "loss"
   ]
  },
  {
   "cell_type": "markdown",
   "id": "79c7f3b0-335f-4aec-ad30-1f103830e6b7",
   "metadata": {},
   "source": [
    "Batch átlagos hibája:"
   ]
  },
  {
   "cell_type": "code",
   "execution_count": 11,
   "id": "e75e24a3-eb6c-4f67-bf69-2de6bd78abbb",
   "metadata": {},
   "outputs": [
    {
     "data": {
      "text/plain": [
       "0.38506088005216804"
      ]
     },
     "execution_count": 11,
     "metadata": {},
     "output_type": "execute_result"
    }
   ],
   "source": [
    "np.mean(loss)"
   ]
  },
  {
   "cell_type": "markdown",
   "id": "03524af7-1bf3-4818-a6a6-7d7441dffae9",
   "metadata": {},
   "source": [
    "---\n",
    "\n",
    "Belefuthatunk egy problémába: a 0-nak nem tudjuk kiszámolni log-ját mivel az végtelen. Végtelen objektummal pedig nem tud dolgozni a többi függvény, de van a numpy-ban egy beépített függvény ami `inf` objektum helyett egy beállított legkisebbb és legnagyobb számot ad vissza.\n",
    "\n",
    "Ez megakadályozza, hogy a veszteség pontosan 0 legyen, ehelyett egy nagyon kis érték lesz, de nem lesz negatív érték, és nem torzítja a teljes veszteséget 1 felé."
   ]
  },
  {
   "cell_type": "code",
   "execution_count": 12,
   "id": "4f3cec3a-6540-4bc9-882e-60805c1a6bb6",
   "metadata": {},
   "outputs": [
    {
     "name": "stderr",
     "output_type": "stream",
     "text": [
      "/var/folders/62/vz7ys27s3yj5g2sggr7qwbkr0000gn/T/ipykernel_17965/456330982.py:1: RuntimeWarning: divide by zero encountered in log\n",
      "  np.clip(np.log(0), 1e-7, 1 - 1e-7)\n"
     ]
    },
    {
     "data": {
      "text/plain": [
       "1e-07"
      ]
     },
     "execution_count": 12,
     "metadata": {},
     "output_type": "execute_result"
    }
   ],
   "source": [
    "np.clip(np.log(0), 1e-7, 1 - 1e-7)"
   ]
  },
  {
   "cell_type": "markdown",
   "id": "f15abf7e-f791-4177-9239-fb3d2a3e4553",
   "metadata": {},
   "source": [
    "---\n",
    "\n",
    "#### One-hot vector\n",
    "\n",
    "A célpontok eredményei általában one-hot vector kódolásúak, tehát nem egy külön listában vannak a helyes eredmények indexei, hanem minden mintához van egy külön vektor, ami a helyes válasz pozicióját mutatja:"
   ]
  },
  {
   "cell_type": "code",
   "execution_count": 13,
   "id": "4272621d-87f6-4c4a-ac75-b836a55efb37",
   "metadata": {},
   "outputs": [],
   "source": [
    "class_targets = np.array([[1, 0, 0],\n",
    "                          [0, 1, 0],\n",
    "                          [0, 1, 0]])"
   ]
  },
  {
   "cell_type": "markdown",
   "id": "480951d1-3208-4aeb-8f89-fa68bb6444fa",
   "metadata": {},
   "source": [
    "Ebben az esetben a célcímkéknél a valószínűségek kiszűrése helyett meg kell szoroznunk a valószínűséget a célcímkékkel, **a helyes címkéknél lévő értékek kivételével minden értéket lenullázva**, majd a sortengely (1. tengely) mentén összegzést végezve megkapjuk a helyes válasz valószínűségét:"
   ]
  },
  {
   "cell_type": "code",
   "execution_count": 14,
   "id": "5929a720-4f13-450e-9505-4fb7cf52c1f5",
   "metadata": {},
   "outputs": [
    {
     "data": {
      "text/plain": [
       "array([[0.7, 0. , 0. ],\n",
       "       [0. , 0.5, 0. ],\n",
       "       [0. , 0.9, 0. ]])"
      ]
     },
     "execution_count": 14,
     "metadata": {},
     "output_type": "execute_result"
    }
   ],
   "source": [
    "softmax_outputs*class_targets"
   ]
  },
  {
   "cell_type": "code",
   "execution_count": 15,
   "id": "910e563b-0a3c-421e-89ce-d132ef94ff59",
   "metadata": {},
   "outputs": [
    {
     "data": {
      "text/plain": [
       "array([0.7, 0.5, 0.9])"
      ]
     },
     "execution_count": 15,
     "metadata": {},
     "output_type": "execute_result"
    }
   ],
   "source": [
    "np.sum(softmax_outputs*class_targets, axis=1)"
   ]
  },
  {
   "cell_type": "markdown",
   "id": "09c3a812-25d3-479b-8462-9d7e1c66cf5c",
   "metadata": {},
   "source": [
    "---\n",
    "\n",
    "## Veszteség számoló osztály\n",
    "\n",
    "Több veszteségfüggvényünk is lesz, és néhány művelet, ami mindegyikben közös (például a teljes veszteség kiszámítása átlagolással).\n",
    "\n",
    "Ezért lesz egy fő veszteség osztályunk majd ebből csináljuk meg a speciális osztályokat a konkrét számolással."
   ]
  },
  {
   "cell_type": "code",
   "execution_count": 16,
   "id": "a60efe08-1fda-4f82-9c7c-1acb6274e45d",
   "metadata": {},
   "outputs": [],
   "source": [
    "class Loss:\n",
    "    \n",
    "    def calculate(self, output, y):\n",
    "        sample_losses = self.forward(output, y) # output: argmax output, y: traning data\n",
    "        data_loss = np.mean(sample_losses)\n",
    "        return data_loss\n",
    "\n",
    "\n",
    "class Loss_CCE(Loss):\n",
    "\n",
    "    def forward(self, y_pred, y_true): # y_pred: argmax output, y_true: traning data\n",
    "        samples = len(y_pred) # number of samples in a batch\n",
    "        y_pred_clipped = np.clip(y_pred, 1e-7, 1 - 1e-7)\n",
    "\n",
    "        # el kell dönteni, hogy lista vagy one-hot vektorok vannak-e\n",
    "        if len(y_true.shape) == 1: # categorical labels (index szűrés megoldás)\n",
    "            correct_confidences = y_pred[range(samples), y_true]\n",
    "            \n",
    "        elif len(y_true.shape) == 2: # one-hot encoded labels (helytelen nullázás megoldás)\n",
    "            correct_confidences = np.sum(y_pred*y_true, axis=1)\n",
    "\n",
    "        # Loss számolás\n",
    "        negative_log_likelihoods = -np.log(correct_confidences)\n",
    "        return negative_log_likelihoods"
   ]
  },
  {
   "cell_type": "markdown",
   "id": "e2453767-50d6-4109-9165-7055d41d057f",
   "metadata": {},
   "source": [
    "---\n",
    "\n",
    "#### Teszt"
   ]
  },
  {
   "cell_type": "code",
   "execution_count": 17,
   "id": "0d6152ca-4f24-400d-9909-39b3b0da4d9a",
   "metadata": {},
   "outputs": [],
   "source": [
    "softmax_outputs = np.array([[0.7, 0.1, 0.2],\n",
    "                            [0.1, 0.5, 0.4],\n",
    "                            [0.02, 0.9, 0.08]])\n",
    "\n",
    "onehot_targets = np.array([[1, 0, 0],\n",
    "                           [0, 1, 0],\n",
    "                           [0, 1, 0]])\n",
    "\n",
    "index_targets = np.array([0, 1, 1])"
   ]
  },
  {
   "cell_type": "code",
   "execution_count": 18,
   "id": "a6a21186-3536-4784-9081-68fa8c8d5b53",
   "metadata": {},
   "outputs": [],
   "source": [
    "loss_fugveny = Loss_CCE()"
   ]
  },
  {
   "cell_type": "code",
   "execution_count": 19,
   "id": "7a92280d-babd-4aa7-bdb3-5c3bcf7d27e0",
   "metadata": {},
   "outputs": [
    {
     "data": {
      "text/plain": [
       "0.38506088005216804"
      ]
     },
     "execution_count": 19,
     "metadata": {},
     "output_type": "execute_result"
    }
   ],
   "source": [
    "# one-hot vektor bemenet\n",
    "loss_fugveny.calculate(softmax_outputs, onehot_targets)"
   ]
  },
  {
   "cell_type": "code",
   "execution_count": 20,
   "id": "b2dd32c1-641e-454d-aa5e-56811ece7544",
   "metadata": {},
   "outputs": [
    {
     "data": {
      "text/plain": [
       "0.38506088005216804"
      ]
     },
     "execution_count": 20,
     "metadata": {},
     "output_type": "execute_result"
    }
   ],
   "source": [
    "# index bemenet\n",
    "loss_fugveny.calculate(softmax_outputs, index_targets)"
   ]
  },
  {
   "cell_type": "code",
   "execution_count": 21,
   "id": "c2d516c4-eb93-434a-866d-73d87c0be9b1",
   "metadata": {},
   "outputs": [
    {
     "data": {
      "text/plain": [
       "array([0, 1, 1])"
      ]
     },
     "execution_count": 21,
     "metadata": {},
     "output_type": "execute_result"
    }
   ],
   "source": [
    "np.argmax(softmax_outputs, axis=1)"
   ]
  },
  {
   "cell_type": "markdown",
   "id": "57ea5cf5-2685-41f3-b71c-bc112e9ce4c3",
   "metadata": {},
   "source": [
    "---\n",
    "\n",
    "Ellenőrzés, hogy a modell hány bemenet talált el helyesen:"
   ]
  },
  {
   "cell_type": "code",
   "execution_count": 22,
   "id": "02561003-cf68-4d9d-b4bc-2f60babe05de",
   "metadata": {},
   "outputs": [],
   "source": [
    "predictions = np.argmax(softmax_outputs, axis=1) # a legnagyobb érték indexe (soronként)"
   ]
  },
  {
   "cell_type": "code",
   "execution_count": 23,
   "id": "658413e1-58e4-4942-a843-e182ccfffd00",
   "metadata": {},
   "outputs": [
    {
     "data": {
      "text/plain": [
       "array([ True,  True,  True])"
      ]
     },
     "execution_count": 23,
     "metadata": {},
     "output_type": "execute_result"
    }
   ],
   "source": [
    "predictions == index_targets"
   ]
  },
  {
   "cell_type": "code",
   "execution_count": 24,
   "id": "760b4983-9231-413a-848f-6157738d07a7",
   "metadata": {},
   "outputs": [],
   "source": [
    "accuracy = np.mean(predictions == index_targets) # 2/3 (háromból 2 helyes)"
   ]
  },
  {
   "cell_type": "code",
   "execution_count": 25,
   "id": "07e708cd-821d-4c9f-b47b-21e6feade217",
   "metadata": {},
   "outputs": [
    {
     "data": {
      "text/plain": [
       "1.0"
      ]
     },
     "execution_count": 25,
     "metadata": {},
     "output_type": "execute_result"
    }
   ],
   "source": [
    "accuracy"
   ]
  },
  {
   "cell_type": "markdown",
   "id": "04fd32fc-c3ba-435f-80dc-b1bfb55f5d47",
   "metadata": {},
   "source": [
    "---\n",
    "\n",
    "One-hot vector átlakítása index listává:"
   ]
  },
  {
   "cell_type": "code",
   "execution_count": 26,
   "id": "e9dd7f33-b2cf-410a-84b9-ce1667b97f53",
   "metadata": {},
   "outputs": [
    {
     "data": {
      "text/plain": [
       "array([0, 1, 1])"
      ]
     },
     "execution_count": 26,
     "metadata": {},
     "output_type": "execute_result"
    }
   ],
   "source": [
    "np.argmax(onehot_targets, axis=1)"
   ]
  }
 ],
 "metadata": {
  "kernelspec": {
   "display_name": "Python 3 (ipykernel)",
   "language": "python",
   "name": "python3"
  },
  "language_info": {
   "codemirror_mode": {
    "name": "ipython",
    "version": 3
   },
   "file_extension": ".py",
   "mimetype": "text/x-python",
   "name": "python",
   "nbconvert_exporter": "python",
   "pygments_lexer": "ipython3",
   "version": "3.10.11"
  }
 },
 "nbformat": 4,
 "nbformat_minor": 5
}
